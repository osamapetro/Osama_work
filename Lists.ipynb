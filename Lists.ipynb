{
 "cells": [
  {
   "cell_type": "code",
   "execution_count": 1,
   "metadata": {},
   "outputs": [
    {
     "name": "stdout",
     "output_type": "stream",
     "text": [
      "['cars', 'planes', 33, 32.2]\n",
      "cars\n",
      "planes\n",
      "32.2\n",
      "['cars', 'planes', 35, 32.2]\n",
      "['cars', 'joe', 'planes', 35, 32.2, 'science']\n",
      "['cars', 'joe', 'planes', 32.2, 'science']\n",
      "['cars', 'joe', 'planes', 32.2]\n",
      "43.2\n",
      "osama\n",
      "14\n",
      "30\n",
      "16\n",
      "40\n",
      "43.2\n",
      "zizo\n",
      "['osama', 14, 30, 16, 40, 43.2, 'zizo', 14]\n",
      "[2, 3, 9, 400, 1000, 15000]\n",
      "[15000, 1000, 400, 9, 3, 2]\n",
      "6\n",
      "[3, 2, 'osama', 'ahmed', 60, 70.8]\n",
      "[60, 20, 40, 20, 'mohamed', 'ali']\n",
      "[3, 2, 'osama', 'ahmed', 60, 70.8, 60, 20, 40, 20, 'mohamed', 'ali']\n",
      "[3, 2, 'osama', 'ahmed', 60, 70.8, 60, 20, 40, 20, 'mohamed', 'ali']\n"
     ]
    }
   ],
   "source": [
    "#lists \n",
    "# List function carry different types from integer up to string it start with this brackets [ ] \n",
    "#Take care string type should be written within double quotation in the list function. \n",
    "#Advantage in python that in list function you can put different variable types like integer and float, string.\n",
    "#list can be written as commma separated values\n",
    "#A list stores a series of items in a particular order.\n",
    "#Lists allow you to store sets of information in one\n",
    "#place, whether you have just a few items or millions #of items. Lists are one of Python's most powerful\n",
    "#features readily accessible to new programmers, andthey tie together many important concepts in programming.\n",
    "#make list\n",
    "list_1=[\"cars\",\"planes\",33,32.2] #list can contain all variable types\n",
    "print(list_1)\n",
    "#get the first item in the list\n",
    "first_item_list_1=list_1[0]\n",
    "print(first_item_list_1)\n",
    "#get the second item\n",
    "second_item_list_1=list_1[1]\n",
    "print(second_item_list_1)\n",
    "#get the last item in the list\n",
    "last_item_list_1=list_1[-1]\n",
    "print(last_item_list_1)\n",
    "#modifiy an item in the list\n",
    "list_1[2]=35\n",
    "print(list_1)\n",
    "#inserting element at particular position\n",
    "list_1.insert(1,\"joe\")\n",
    "#adding element to the end of list\n",
    "list_1.append(\"science\")\n",
    "print(list_1)\n",
    "#remove item from list\n",
    "#you can remove element by there postion in list, or by value of item, \n",
    "#if you remove item by its value pythom remove first item that has value\n",
    "#delete element by its postion\n",
    "del list_1[3]\n",
    "print(list_1)\n",
    "#delete element by its value\n",
    "list_1.remove(\"science\")\n",
    "print(list_1)\n",
    "#new data list to work with\n",
    "data=[\"osama\", 14,30, 16, 40,43.2,\"zizo\"]\n",
    "print(data[5])\n",
    "# for i in range(0,6):   # traverse by index \n",
    "    # print(data[i])\n",
    "for x in data:        # traverse by value\n",
    "    print(x)\n",
    "#append data in list \n",
    "data.append(14)\n",
    "print(data)\n",
    "numbers=[400,9,3,2,1000,15000]\n",
    "numbers.sort()   #sorting in list data\n",
    "print(numbers)   \n",
    "# if you want to use your data sorted in reverse order you should write reverse=true\n",
    "numbers.sort(reverse=True)      \n",
    "print(numbers)\n",
    "print(len(numbers))  #length of list by using len function\n",
    "#concentation of two lists\n",
    "Jdata=[3,2,\"osama\",\"ahmed\",60,70.8]\n",
    "Kdata=[60,20,40,20,\"mohamed\",\"ali\"]\n",
    "print(Jdata)\n",
    "print(Kdata)\n",
    "print(Jdata+Kdata)\n",
    "new_combined=Jdata+Kdata\n",
    "print(new_combined)"
   ]
  },
  {
   "cell_type": "code",
   "execution_count": 4,
   "metadata": {},
   "outputs": [
    {
     "name": "stdout",
     "output_type": "stream",
     "text": [
      "1\n",
      "3\n",
      "5\n",
      "7\n",
      "osama\n",
      "petrophysics\n",
      "NMR\n",
      "welcome, [1, 3, 5, 7, 'osama', 'petrophysics', 'NMR'] !\n",
      "welcome, [1, 3, 5, 7, 'osama', 'petrophysics', 'NMR'] !\n",
      "welcome, [1, 3, 5, 7, 'osama', 'petrophysics', 'NMR'] !\n",
      "welcome, [1, 3, 5, 7, 'osama', 'petrophysics', 'NMR'] !\n",
      "welcome, [1, 3, 5, 7, 'osama', 'petrophysics', 'NMR'] !\n",
      "welcome, [1, 3, 5, 7, 'osama', 'petrophysics', 'NMR'] !\n",
      "welcome, [1, 3, 5, 7, 'osama', 'petrophysics', 'NMR'] !\n"
     ]
    }
   ],
   "source": [
    "#looping through lists\n",
    "#Lists can contain millions of items, so Python provides an efficient way to loop through all the items in a list.\n",
    "#When you set up a loop, Python pulls each item from the list one at a time and stores it in a temporary variable,\n",
    "#which you provide a name for. This name should be the singular version of the list name.\n",
    "#The indented block of code makes up the body of the loop, where you can work with each individual item. \n",
    "#Any lines that are not indented run after the loop is completed.\n",
    "#printing all items in lists\n",
    "data=[1,3,5,7,\"osama\",\"petrophysics\",\"NMR\"]\n",
    "for x in data:\n",
    "    print(x)\n",
    "#printing a message for each item, and separate message afterward\n",
    "for l in data:\n",
    "    print(\"welcome,\",data,\"!\")\n",
    "#take care i used comma instead of + in concatenation due to + is only used for same types \n",
    "#if you have list of strings or integars but comma can concatenate both\n"
   ]
  },
  {
   "cell_type": "code",
   "execution_count": 5,
   "metadata": {},
   "outputs": [
    {
     "name": "stdout",
     "output_type": "stream",
     "text": [
      "[1, 3, 5]\n",
      "[3, 5]\n",
      "['petrophysics', 'NMR']\n"
     ]
    }
   ],
   "source": [
    "#slicing lists, You can work with any set of elements from a list.\n",
    "# a portion of list is called a slice. \n",
    "#To slice a list start with the index of the first item you want\n",
    "#then add a colon and the index after the last item you want.\n",
    "#Leave off the first index to start at the beginning of the list, \n",
    "#and leave off the last index to slice through the end of the list.\n",
    "data=[1,3,5,7,\"osama\",\"petrophysics\",\"NMR\"]\n",
    "#Getting the first three items\n",
    "first_3=data[:3]\n",
    "print(first_3)\n",
    "#getting the middle 3\n",
    "middle_2=data[1:3]\n",
    "print(middle_2)\n",
    "#getting last two items\n",
    "last_2=data[-2:]\n",
    "print(last_2)"
   ]
  },
  {
   "cell_type": "code",
   "execution_count": 7,
   "metadata": {},
   "outputs": [
    {
     "name": "stdout",
     "output_type": "stream",
     "text": [
      "[0.15, 0.18, 0.25, 0.29, 0.12]\n",
      "0.12\n",
      "0.29\n"
     ]
    }
   ],
   "source": [
    "#simple statistics\n",
    "#There are a number of simple statistics you can run on a list containing numerical data.\n",
    "porosity=[0.15,0.18,0.25,0.29,0.12]\n",
    "print(porosity)\n",
    "#finding minimum value in list\n",
    "lowest_value=min(porosity)\n",
    "print(lowest_value)\n",
    "#finding maximum value\n",
    "highest_value=max(porosity)\n",
    "print(highest_value)\n",
    "#finding average of values??????\n"
   ]
  },
  {
   "cell_type": "code",
   "execution_count": 9,
   "metadata": {},
   "outputs": [
    {
     "name": "stdout",
     "output_type": "stream",
     "text": [
      "[0.15, 0.18, 0.25, 0.29, 0.12]\n",
      "5\n"
     ]
    }
   ],
   "source": [
    "#copying lists, To copy a list make a slice that starts at the first item and ends at the last item. \n",
    "#If you try to copy a list without using this approach,  \n",
    "#whatever you do to the copied list will affect the original list as well.\n",
    "copy_porosity=porosity[:]\n",
    "print(copy_porosity)\n",
    "#length of list\n",
    "print(len(porosity))"
   ]
  },
  {
   "cell_type": "code",
   "execution_count": null,
   "metadata": {},
   "outputs": [],
   "source": []
  }
 ],
 "metadata": {
  "kernelspec": {
   "display_name": "Python 3",
   "language": "python",
   "name": "python3"
  },
  "language_info": {
   "codemirror_mode": {
    "name": "ipython",
    "version": 3
   },
   "file_extension": ".py",
   "mimetype": "text/x-python",
   "name": "python",
   "nbconvert_exporter": "python",
   "pygments_lexer": "ipython3",
   "version": "3.8.5"
  }
 },
 "nbformat": 4,
 "nbformat_minor": 4
}
