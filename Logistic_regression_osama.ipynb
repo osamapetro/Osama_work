{
 "cells": [
  {
   "cell_type": "code",
   "execution_count": 28,
   "metadata": {},
   "outputs": [
    {
     "data": {
      "text/html": [
       "<div>\n",
       "<style scoped>\n",
       "    .dataframe tbody tr th:only-of-type {\n",
       "        vertical-align: middle;\n",
       "    }\n",
       "\n",
       "    .dataframe tbody tr th {\n",
       "        vertical-align: top;\n",
       "    }\n",
       "\n",
       "    .dataframe thead th {\n",
       "        text-align: right;\n",
       "    }\n",
       "</style>\n",
       "<table border=\"1\" class=\"dataframe\">\n",
       "  <thead>\n",
       "    <tr style=\"text-align: right;\">\n",
       "      <th></th>\n",
       "      <th>DEPTH</th>\n",
       "      <th>APLC</th>\n",
       "      <th>GR</th>\n",
       "      <th>PEF</th>\n",
       "      <th>RHOZ</th>\n",
       "      <th>RLA5</th>\n",
       "      <th>RXOZ</th>\n",
       "      <th>SAND/SHALE</th>\n",
       "    </tr>\n",
       "  </thead>\n",
       "  <tbody>\n",
       "    <tr>\n",
       "      <th>0</th>\n",
       "      <td>2078.2788</td>\n",
       "      <td>0.2326</td>\n",
       "      <td>70.0212</td>\n",
       "      <td>2.6133</td>\n",
       "      <td>2.3788</td>\n",
       "      <td>2.9509</td>\n",
       "      <td>1.5450</td>\n",
       "      <td>1</td>\n",
       "    </tr>\n",
       "    <tr>\n",
       "      <th>1</th>\n",
       "      <td>2078.4312</td>\n",
       "      <td>0.2307</td>\n",
       "      <td>64.7696</td>\n",
       "      <td>2.6669</td>\n",
       "      <td>2.3810</td>\n",
       "      <td>3.2613</td>\n",
       "      <td>1.6010</td>\n",
       "      <td>1</td>\n",
       "    </tr>\n",
       "    <tr>\n",
       "      <th>2</th>\n",
       "      <td>2078.5836</td>\n",
       "      <td>0.2138</td>\n",
       "      <td>67.0203</td>\n",
       "      <td>2.7089</td>\n",
       "      <td>2.4049</td>\n",
       "      <td>3.6983</td>\n",
       "      <td>1.8061</td>\n",
       "      <td>1</td>\n",
       "    </tr>\n",
       "    <tr>\n",
       "      <th>3</th>\n",
       "      <td>2080.7172</td>\n",
       "      <td>0.3081</td>\n",
       "      <td>78.5164</td>\n",
       "      <td>2.5901</td>\n",
       "      <td>2.3022</td>\n",
       "      <td>2.9375</td>\n",
       "      <td>1.9140</td>\n",
       "      <td>1</td>\n",
       "    </tr>\n",
       "    <tr>\n",
       "      <th>4</th>\n",
       "      <td>2080.8696</td>\n",
       "      <td>0.2766</td>\n",
       "      <td>72.0218</td>\n",
       "      <td>2.5552</td>\n",
       "      <td>2.2380</td>\n",
       "      <td>3.0934</td>\n",
       "      <td>1.2853</td>\n",
       "      <td>1</td>\n",
       "    </tr>\n",
       "  </tbody>\n",
       "</table>\n",
       "</div>"
      ],
      "text/plain": [
       "       DEPTH    APLC       GR     PEF    RHOZ    RLA5    RXOZ  SAND/SHALE\n",
       "0  2078.2788  0.2326  70.0212  2.6133  2.3788  2.9509  1.5450           1\n",
       "1  2078.4312  0.2307  64.7696  2.6669  2.3810  3.2613  1.6010           1\n",
       "2  2078.5836  0.2138  67.0203  2.7089  2.4049  3.6983  1.8061           1\n",
       "3  2080.7172  0.3081  78.5164  2.5901  2.3022  2.9375  1.9140           1\n",
       "4  2080.8696  0.2766  72.0218  2.5552  2.2380  3.0934  1.2853           1"
      ]
     },
     "execution_count": 28,
     "metadata": {},
     "output_type": "execute_result"
    }
   ],
   "source": [
    "#pandas is very important for data loading\n",
    "#when i am calling for panda data i am used pd then use pd.readcsv means i calling panda to read\n",
    "#csv files.\n",
    "import sklearn\n",
    "import matplotlib.pyplot as plt\n",
    "import pandas as pd\n",
    "import numpy as np\n",
    "import seaborn as sns\n",
    "data=pd.read_csv(\"D:\\Python and machine learning private course\\Sikit learn\\Wells CSV\\Well_Y.csv\")\n",
    "data.head()"
   ]
  },
  {
   "cell_type": "code",
   "execution_count": 29,
   "metadata": {},
   "outputs": [
    {
     "name": "stdout",
     "output_type": "stream",
     "text": [
      "         DEPTH    APLC       GR     PEF    RHOZ    RLA5    RXOZ  SAND/SHALE\n",
      "0    2078.2788  0.2326  70.0212  2.6133  2.3788  2.9509  1.5450           1\n",
      "1    2078.4312  0.2307  64.7696  2.6669  2.3810  3.2613  1.6010           1\n",
      "2    2078.5836  0.2138  67.0203  2.7089  2.4049  3.6983  1.8061           1\n",
      "3    2080.7172  0.3081  78.5164  2.5901  2.3022  2.9375  1.9140           1\n",
      "4    2080.8696  0.2766  72.0218  2.5552  2.2380  3.0934  1.2853           1\n",
      "..         ...     ...      ...     ...     ...     ...     ...         ...\n",
      "179  2337.3588  0.1601  69.4035  2.3607  2.3914  4.2271  0.8447           1\n",
      "180  2337.5112  0.1681  69.6683  2.3572  2.3768  3.6984  0.7382           1\n",
      "181  2337.6636  0.1637  69.3152  2.3191  2.3705  3.4859  0.6986           1\n",
      "182  2337.8160  0.1595  69.3152  2.2930  2.3846  3.5753  0.8739           1\n",
      "183  2337.9684  0.1663  67.6676  2.2882  2.4204  3.5439  0.9895           1\n",
      "\n",
      "[184 rows x 8 columns]\n"
     ]
    }
   ],
   "source": [
    "print(data)"
   ]
  },
  {
   "cell_type": "code",
   "execution_count": 3,
   "metadata": {},
   "outputs": [
    {
     "name": "stdout",
     "output_type": "stream",
     "text": [
      "0      1\n",
      "1      1\n",
      "2      1\n",
      "3      1\n",
      "4      1\n",
      "      ..\n",
      "179    1\n",
      "180    1\n",
      "181    1\n",
      "182    1\n",
      "183    1\n",
      "Name: SAND/SHALE, Length: 184, dtype: int64\n"
     ]
    },
    {
     "data": {
      "text/plain": [
       "0"
      ]
     },
     "execution_count": 3,
     "metadata": {},
     "output_type": "execute_result"
    }
   ],
   "source": [
    "print(data[\"SAND/SHALE\"])\n",
    "#data frame element access\n",
    "data.at[89,\"SAND/SHALE\"]"
   ]
  },
  {
   "cell_type": "code",
   "execution_count": 4,
   "metadata": {},
   "outputs": [
    {
     "name": "stdout",
     "output_type": "stream",
     "text": [
      "       APLC       GR     PEF    RHOZ    RLA5    RXOZ  SAND/SHALE\n",
      "0    0.2326  70.0212  2.6133  2.3788  2.9509  1.5450           1\n",
      "1    0.2307  64.7696  2.6669  2.3810  3.2613  1.6010           1\n",
      "2    0.2138  67.0203  2.7089  2.4049  3.6983  1.8061           1\n",
      "3    0.3081  78.5164  2.5901  2.3022  2.9375  1.9140           1\n",
      "4    0.2766  72.0218  2.5552  2.2380  3.0934  1.2853           1\n",
      "..      ...      ...     ...     ...     ...     ...         ...\n",
      "179  0.1601  69.4035  2.3607  2.3914  4.2271  0.8447           1\n",
      "180  0.1681  69.6683  2.3572  2.3768  3.6984  0.7382           1\n",
      "181  0.1637  69.3152  2.3191  2.3705  3.4859  0.6986           1\n",
      "182  0.1595  69.3152  2.2930  2.3846  3.5753  0.8739           1\n",
      "183  0.1663  67.6676  2.2882  2.4204  3.5439  0.9895           1\n",
      "\n",
      "[184 rows x 7 columns]\n"
     ]
    }
   ],
   "source": [
    "#delete column in data frame\n",
    "data_final=data.copy()\n",
    "data_final.drop([\"DEPTH\"],inplace=True, axis=1)\n",
    "print(data_final)"
   ]
  },
  {
   "cell_type": "code",
   "execution_count": 5,
   "metadata": {},
   "outputs": [
    {
     "name": "stdout",
     "output_type": "stream",
     "text": [
      "       APLC       GR     PEF    RHOZ    RLA5    RXOZ\n",
      "0    0.2326  70.0212  2.6133  2.3788  2.9509  1.5450\n",
      "1    0.2307  64.7696  2.6669  2.3810  3.2613  1.6010\n",
      "2    0.2138  67.0203  2.7089  2.4049  3.6983  1.8061\n",
      "3    0.3081  78.5164  2.5901  2.3022  2.9375  1.9140\n",
      "4    0.2766  72.0218  2.5552  2.2380  3.0934  1.2853\n",
      "..      ...      ...     ...     ...     ...     ...\n",
      "179  0.1601  69.4035  2.3607  2.3914  4.2271  0.8447\n",
      "180  0.1681  69.6683  2.3572  2.3768  3.6984  0.7382\n",
      "181  0.1637  69.3152  2.3191  2.3705  3.4859  0.6986\n",
      "182  0.1595  69.3152  2.2930  2.3846  3.5753  0.8739\n",
      "183  0.1663  67.6676  2.2882  2.4204  3.5439  0.9895\n",
      "\n",
      "[184 rows x 6 columns]\n",
      "     SAND/SHALE\n",
      "0             1\n",
      "1             1\n",
      "2             1\n",
      "3             1\n",
      "4             1\n",
      "..          ...\n",
      "179           1\n",
      "180           1\n",
      "181           1\n",
      "182           1\n",
      "183           1\n",
      "\n",
      "[184 rows x 1 columns]\n"
     ]
    }
   ],
   "source": [
    "import pandas as pd\n",
    "f=pd.DataFrame(data_final, columns=[\"APLC\",\"GR\",\"PEF\",\"RHOZ\",\"RLA5\",\"RXOZ\"])\n",
    "print(f)\n",
    "k=pd.DataFrame(data_final, columns=[\"SAND/SHALE\"])\n",
    "print(k)"
   ]
  },
  {
   "cell_type": "code",
   "execution_count": 6,
   "metadata": {},
   "outputs": [
    {
     "data": {
      "text/html": [
       "<style  type=\"text/css\" >\n",
       "#T_66c92a96_adda_11eb_af32_b8763faf511arow0_col0,#T_66c92a96_adda_11eb_af32_b8763faf511arow1_col1,#T_66c92a96_adda_11eb_af32_b8763faf511arow2_col2,#T_66c92a96_adda_11eb_af32_b8763faf511arow3_col3,#T_66c92a96_adda_11eb_af32_b8763faf511arow4_col4,#T_66c92a96_adda_11eb_af32_b8763faf511arow5_col5{\n",
       "            background-color:  #08306b;\n",
       "            color:  #f1f1f1;\n",
       "        }#T_66c92a96_adda_11eb_af32_b8763faf511arow0_col1,#T_66c92a96_adda_11eb_af32_b8763faf511arow2_col0{\n",
       "            background-color:  #3a8ac2;\n",
       "            color:  #000000;\n",
       "        }#T_66c92a96_adda_11eb_af32_b8763faf511arow0_col2{\n",
       "            background-color:  #84bcdb;\n",
       "            color:  #000000;\n",
       "        }#T_66c92a96_adda_11eb_af32_b8763faf511arow0_col3,#T_66c92a96_adda_11eb_af32_b8763faf511arow0_col4,#T_66c92a96_adda_11eb_af32_b8763faf511arow0_col5,#T_66c92a96_adda_11eb_af32_b8763faf511arow4_col0,#T_66c92a96_adda_11eb_af32_b8763faf511arow4_col1,#T_66c92a96_adda_11eb_af32_b8763faf511arow4_col2{\n",
       "            background-color:  #f7fbff;\n",
       "            color:  #000000;\n",
       "        }#T_66c92a96_adda_11eb_af32_b8763faf511arow1_col0{\n",
       "            background-color:  #206fb4;\n",
       "            color:  #f1f1f1;\n",
       "        }#T_66c92a96_adda_11eb_af32_b8763faf511arow1_col2{\n",
       "            background-color:  #529dcc;\n",
       "            color:  #000000;\n",
       "        }#T_66c92a96_adda_11eb_af32_b8763faf511arow1_col3{\n",
       "            background-color:  #7cb7da;\n",
       "            color:  #000000;\n",
       "        }#T_66c92a96_adda_11eb_af32_b8763faf511arow1_col4{\n",
       "            background-color:  #b7d4ea;\n",
       "            color:  #000000;\n",
       "        }#T_66c92a96_adda_11eb_af32_b8763faf511arow1_col5{\n",
       "            background-color:  #99c7e0;\n",
       "            color:  #000000;\n",
       "        }#T_66c92a96_adda_11eb_af32_b8763faf511arow2_col1{\n",
       "            background-color:  #4191c6;\n",
       "            color:  #000000;\n",
       "        }#T_66c92a96_adda_11eb_af32_b8763faf511arow2_col3,#T_66c92a96_adda_11eb_af32_b8763faf511arow3_col4{\n",
       "            background-color:  #3d8dc4;\n",
       "            color:  #000000;\n",
       "        }#T_66c92a96_adda_11eb_af32_b8763faf511arow2_col4{\n",
       "            background-color:  #9ac8e0;\n",
       "            color:  #000000;\n",
       "        }#T_66c92a96_adda_11eb_af32_b8763faf511arow2_col5{\n",
       "            background-color:  #61a7d2;\n",
       "            color:  #000000;\n",
       "        }#T_66c92a96_adda_11eb_af32_b8763faf511arow3_col0{\n",
       "            background-color:  #c6dbef;\n",
       "            color:  #000000;\n",
       "        }#T_66c92a96_adda_11eb_af32_b8763faf511arow3_col1{\n",
       "            background-color:  #8abfdd;\n",
       "            color:  #000000;\n",
       "        }#T_66c92a96_adda_11eb_af32_b8763faf511arow3_col2{\n",
       "            background-color:  #549fcd;\n",
       "            color:  #000000;\n",
       "        }#T_66c92a96_adda_11eb_af32_b8763faf511arow3_col5{\n",
       "            background-color:  #2979b9;\n",
       "            color:  #000000;\n",
       "        }#T_66c92a96_adda_11eb_af32_b8763faf511arow4_col3{\n",
       "            background-color:  #64a9d3;\n",
       "            color:  #000000;\n",
       "        }#T_66c92a96_adda_11eb_af32_b8763faf511arow4_col5,#T_66c92a96_adda_11eb_af32_b8763faf511arow5_col3{\n",
       "            background-color:  #2c7cba;\n",
       "            color:  #000000;\n",
       "        }#T_66c92a96_adda_11eb_af32_b8763faf511arow5_col0{\n",
       "            background-color:  #ccdff1;\n",
       "            color:  #000000;\n",
       "        }#T_66c92a96_adda_11eb_af32_b8763faf511arow5_col1{\n",
       "            background-color:  #b0d2e7;\n",
       "            color:  #000000;\n",
       "        }#T_66c92a96_adda_11eb_af32_b8763faf511arow5_col2{\n",
       "            background-color:  #92c4de;\n",
       "            color:  #000000;\n",
       "        }#T_66c92a96_adda_11eb_af32_b8763faf511arow5_col4{\n",
       "            background-color:  #1c6bb0;\n",
       "            color:  #f1f1f1;\n",
       "        }</style><table id=\"T_66c92a96_adda_11eb_af32_b8763faf511a\" ><thead>    <tr>        <th class=\"blank level0\" ></th>        <th class=\"col_heading level0 col0\" >APLC</th>        <th class=\"col_heading level0 col1\" >GR</th>        <th class=\"col_heading level0 col2\" >PEF</th>        <th class=\"col_heading level0 col3\" >RHOZ</th>        <th class=\"col_heading level0 col4\" >RLA5</th>        <th class=\"col_heading level0 col5\" >RXOZ</th>    </tr></thead><tbody>\n",
       "                <tr>\n",
       "                        <th id=\"T_66c92a96_adda_11eb_af32_b8763faf511alevel0_row0\" class=\"row_heading level0 row0\" >APLC</th>\n",
       "                        <td id=\"T_66c92a96_adda_11eb_af32_b8763faf511arow0_col0\" class=\"data row0 col0\" >1.000000</td>\n",
       "                        <td id=\"T_66c92a96_adda_11eb_af32_b8763faf511arow0_col1\" class=\"data row0 col1\" >0.644541</td>\n",
       "                        <td id=\"T_66c92a96_adda_11eb_af32_b8763faf511arow0_col2\" class=\"data row0 col2\" >0.493530</td>\n",
       "                        <td id=\"T_66c92a96_adda_11eb_af32_b8763faf511arow0_col3\" class=\"data row0 col3\" >-0.091673</td>\n",
       "                        <td id=\"T_66c92a96_adda_11eb_af32_b8763faf511arow0_col4\" class=\"data row0 col4\" >-0.461928</td>\n",
       "                        <td id=\"T_66c92a96_adda_11eb_af32_b8763faf511arow0_col5\" class=\"data row0 col5\" >-0.139039</td>\n",
       "            </tr>\n",
       "            <tr>\n",
       "                        <th id=\"T_66c92a96_adda_11eb_af32_b8763faf511alevel0_row1\" class=\"row_heading level0 row1\" >GR</th>\n",
       "                        <td id=\"T_66c92a96_adda_11eb_af32_b8763faf511arow1_col0\" class=\"data row1 col0\" >0.644541</td>\n",
       "                        <td id=\"T_66c92a96_adda_11eb_af32_b8763faf511arow1_col1\" class=\"data row1 col1\" >1.000000</td>\n",
       "                        <td id=\"T_66c92a96_adda_11eb_af32_b8763faf511arow1_col2\" class=\"data row1 col2\" >0.617687</td>\n",
       "                        <td id=\"T_66c92a96_adda_11eb_af32_b8763faf511arow1_col3\" class=\"data row1 col3\" >0.410725</td>\n",
       "                        <td id=\"T_66c92a96_adda_11eb_af32_b8763faf511arow1_col4\" class=\"data row1 col4\" >-0.022616</td>\n",
       "                        <td id=\"T_66c92a96_adda_11eb_af32_b8763faf511arow1_col5\" class=\"data row1 col5\" >0.302448</td>\n",
       "            </tr>\n",
       "            <tr>\n",
       "                        <th id=\"T_66c92a96_adda_11eb_af32_b8763faf511alevel0_row2\" class=\"row_heading level0 row2\" >PEF</th>\n",
       "                        <td id=\"T_66c92a96_adda_11eb_af32_b8763faf511arow2_col0\" class=\"data row2 col0\" >0.493530</td>\n",
       "                        <td id=\"T_66c92a96_adda_11eb_af32_b8763faf511arow2_col1\" class=\"data row2 col1\" >0.617687</td>\n",
       "                        <td id=\"T_66c92a96_adda_11eb_af32_b8763faf511arow2_col2\" class=\"data row2 col2\" >1.000000</td>\n",
       "                        <td id=\"T_66c92a96_adda_11eb_af32_b8763faf511arow2_col3\" class=\"data row2 col3\" >0.611937</td>\n",
       "                        <td id=\"T_66c92a96_adda_11eb_af32_b8763faf511arow2_col4\" class=\"data row2 col4\" >0.098407</td>\n",
       "                        <td id=\"T_66c92a96_adda_11eb_af32_b8763faf511arow2_col5\" class=\"data row2 col5\" >0.462654</td>\n",
       "            </tr>\n",
       "            <tr>\n",
       "                        <th id=\"T_66c92a96_adda_11eb_af32_b8763faf511alevel0_row3\" class=\"row_heading level0 row3\" >RHOZ</th>\n",
       "                        <td id=\"T_66c92a96_adda_11eb_af32_b8763faf511arow3_col0\" class=\"data row3 col0\" >-0.091673</td>\n",
       "                        <td id=\"T_66c92a96_adda_11eb_af32_b8763faf511arow3_col1\" class=\"data row3 col1\" >0.410725</td>\n",
       "                        <td id=\"T_66c92a96_adda_11eb_af32_b8763faf511arow3_col2\" class=\"data row3 col2\" >0.611937</td>\n",
       "                        <td id=\"T_66c92a96_adda_11eb_af32_b8763faf511arow3_col3\" class=\"data row3 col3\" >1.000000</td>\n",
       "                        <td id=\"T_66c92a96_adda_11eb_af32_b8763faf511arow3_col4\" class=\"data row3 col4\" >0.476934</td>\n",
       "                        <td id=\"T_66c92a96_adda_11eb_af32_b8763faf511arow3_col5\" class=\"data row3 col5\" >0.680646</td>\n",
       "            </tr>\n",
       "            <tr>\n",
       "                        <th id=\"T_66c92a96_adda_11eb_af32_b8763faf511alevel0_row4\" class=\"row_heading level0 row4\" >RLA5</th>\n",
       "                        <td id=\"T_66c92a96_adda_11eb_af32_b8763faf511arow4_col0\" class=\"data row4 col0\" >-0.461928</td>\n",
       "                        <td id=\"T_66c92a96_adda_11eb_af32_b8763faf511arow4_col1\" class=\"data row4 col1\" >-0.022616</td>\n",
       "                        <td id=\"T_66c92a96_adda_11eb_af32_b8763faf511arow4_col2\" class=\"data row4 col2\" >0.098407</td>\n",
       "                        <td id=\"T_66c92a96_adda_11eb_af32_b8763faf511arow4_col3\" class=\"data row4 col3\" >0.476934</td>\n",
       "                        <td id=\"T_66c92a96_adda_11eb_af32_b8763faf511arow4_col4\" class=\"data row4 col4\" >1.000000</td>\n",
       "                        <td id=\"T_66c92a96_adda_11eb_af32_b8763faf511arow4_col5\" class=\"data row4 col5\" >0.668769</td>\n",
       "            </tr>\n",
       "            <tr>\n",
       "                        <th id=\"T_66c92a96_adda_11eb_af32_b8763faf511alevel0_row5\" class=\"row_heading level0 row5\" >RXOZ</th>\n",
       "                        <td id=\"T_66c92a96_adda_11eb_af32_b8763faf511arow5_col0\" class=\"data row5 col0\" >-0.139039</td>\n",
       "                        <td id=\"T_66c92a96_adda_11eb_af32_b8763faf511arow5_col1\" class=\"data row5 col1\" >0.302448</td>\n",
       "                        <td id=\"T_66c92a96_adda_11eb_af32_b8763faf511arow5_col2\" class=\"data row5 col2\" >0.462654</td>\n",
       "                        <td id=\"T_66c92a96_adda_11eb_af32_b8763faf511arow5_col3\" class=\"data row5 col3\" >0.680646</td>\n",
       "                        <td id=\"T_66c92a96_adda_11eb_af32_b8763faf511arow5_col4\" class=\"data row5 col4\" >0.668769</td>\n",
       "                        <td id=\"T_66c92a96_adda_11eb_af32_b8763faf511arow5_col5\" class=\"data row5 col5\" >1.000000</td>\n",
       "            </tr>\n",
       "    </tbody></table>"
      ],
      "text/plain": [
       "<pandas.io.formats.style.Styler at 0x23744881880>"
      ]
     },
     "execution_count": 6,
     "metadata": {},
     "output_type": "execute_result"
    }
   ],
   "source": [
    "f.corr().style.background_gradient(cmap='Blues')\n",
    "#we can see from correlation that we can use all features no high correlation observed between input variables."
   ]
  },
  {
   "cell_type": "code",
   "execution_count": 7,
   "metadata": {},
   "outputs": [
    {
     "data": {
      "text/plain": [
       "<AxesSubplot:xlabel='SAND/SHALE', ylabel='count'>"
      ]
     },
     "execution_count": 7,
     "metadata": {},
     "output_type": "execute_result"
    },
    {
     "data": {
      "image/png": "[encoded data removed]",
      "text/plain": [
       "<Figure size 432x288 with 1 Axes>"
      ]
     },
     "metadata": {
      "needs_background": "light"
     },
     "output_type": "display_data"
    }
   ],
   "source": [
    "#investigating distr of y\n",
    "sns.countplot(x= \"SAND/SHALE\" ,data=data_final, palette=\"RdBu\" )\n",
    "#here we can see counting is more for sand \n",
    "#sand is 1 while shale is 0"
   ]
  },
  {
   "cell_type": "code",
   "execution_count": 22,
   "metadata": {},
   "outputs": [
    {
     "name": "stdout",
     "output_type": "stream",
     "text": [
      "APLC\n",
      "GR\n",
      "PEF\n",
      "RHOZ\n",
      "RLA5\n",
      "RXOZ\n"
     ]
    },
    {
     "data": {
      "image/png": "[encoded data removed]",
      "text/plain": [
       "<Figure size 432x288 with 1 Axes>"
      ]
     },
     "metadata": {
      "needs_background": "light"
     },
     "output_type": "display_data"
    }
   ],
   "source": [
    "#looping through features by our y variables to se if there is relationship,\n",
    "for h in f:\n",
    "    print(h)\n",
    "for h in f:\n",
    "    sns.countplot(x= h, data=data_final, palette=\"RdBu\", hue=\"SAND/SHALE\")"
   ]
  },
  {
   "cell_type": "code",
   "execution_count": 8,
   "metadata": {},
   "outputs": [
    {
     "name": "stdout",
     "output_type": "stream",
     "text": [
      "[[  0.2326  70.0212   2.6133   1.545 ]\n",
      " [  0.2307  64.7696   2.6669   1.601 ]\n",
      " [  0.2138  67.0203   2.7089   1.8061]\n",
      " [  0.3081  78.5164   2.5901   1.914 ]\n",
      " [  0.2766  72.0218   2.5552   1.2853]\n",
      " [  0.2501  74.3166   2.5113   1.1435]\n",
      " [  0.2633  80.1934   2.485    1.1019]\n",
      " [  0.2743  72.2793   2.1402   0.8906]\n",
      " [  0.2505  61.2759   2.095    0.9309]\n",
      " [  0.247   55.8184   2.0472   1.073 ]\n",
      " [  0.242   48.6838   2.0286   1.0014]\n",
      " [  0.2501  49.7062   2.0576   0.94  ]\n",
      " [  0.2529  51.8245   2.1443   0.8521]\n",
      " [  0.2855  54.6048   2.3099   0.8484]\n",
      " [  0.215   85.5627   2.5122   0.8524]\n",
      " [  0.2074  85.0919   2.5052   0.8966]\n",
      " [  0.2234  87.9678   2.5528   0.9317]\n",
      " [  0.211   93.852    2.5945   0.8962]\n",
      " [  0.2162  95.4995   2.668    1.0164]\n",
      " [  0.2384  82.5691   2.9035   1.1172]\n",
      " [  0.2297  80.0095   2.9864   1.0465]\n",
      " [  0.2274  84.5256   3.0875   1.0821]\n",
      " [  0.3448  99.9862   2.9723   1.5987]\n",
      " [  0.4407 100.6114   2.9142   0.5153]\n",
      " [  0.4889  94.9626   2.9356   0.3371]\n",
      " [  0.4699  91.6234   2.9509   0.2732]\n",
      " [  0.3899  86.9234   3.006    0.3327]\n",
      " [  0.3834  84.2167   3.037    0.4192]\n",
      " [  0.3582  87.2176   3.0563   0.4085]\n",
      " [  0.3975  91.1011   3.0717   0.3917]\n",
      " [  0.4059  88.6298   3.0778   0.3238]\n",
      " [  0.4441  85.1287   3.0805   0.2993]\n",
      " [  0.41    87.4824   3.1182   0.2899]\n",
      " [  0.4047  86.3129   3.1763   0.3133]\n",
      " [  0.4069  83.6798   3.2196   0.3391]\n",
      " [  0.4371  77.7662   3.2341   0.3266]\n",
      " [  0.4199  76.3467   3.2716   0.2539]\n",
      " [  0.3355  76.582    3.3443   0.2269]\n",
      " [  0.293  108.8419   2.8426   1.6151]\n",
      " [  0.3529 118.2197   2.671    1.452 ]\n",
      " [  0.3035 114.8069   2.6167   1.2624]\n",
      " [  0.2817 102.8033   2.592    0.9953]\n",
      " [  0.2428  91.1748   2.5647   1.0184]\n",
      " [  0.3621 104.8554   2.5226   0.2616]\n",
      " [  0.4061 103.0828   2.5351   0.2725]\n",
      " [  0.3245 102.8474   2.5997   0.3433]\n",
      " [  0.2942 107.9225   2.746    0.931 ]\n",
      " [  0.2836 106.2823   2.956    0.6685]\n",
      " [  0.285  100.6188   3.7556   0.7909]\n",
      " [  0.3477 105.966    4.0053   0.7317]\n",
      " [  0.3625 109.4965   4.0939   1.2055]\n",
      " [  0.3246 111.4971   3.9855   0.884 ]\n",
      " [  0.2816 110.4968   3.7291   0.9005]\n",
      " [  0.2682 100.7291   3.4092   0.9921]\n",
      " [  0.2572  81.8999   3.1045   1.0124]\n",
      " [  0.2296  69.4328   2.9137   0.9176]\n",
      " [  0.2263  62.9603   2.8825   0.9631]\n",
      " [  0.2506  63.6664   3.015    1.2274]\n",
      " [  0.257   64.5049   3.1503   1.7878]\n",
      " [  0.2323  68.8591   3.1363   2.2205]\n",
      " [  0.3322  86.5263   4.1966   1.1288]\n",
      " [  0.3205  81.8631   5.0235   1.3534]\n",
      " [  0.2805  85.1141   5.3218   1.5144]\n",
      " [  0.2419  88.218    5.1865   2.0395]\n",
      " [  0.2062  88.924    4.7868   3.6808]\n",
      " [  0.2049  90.6157   4.404    5.0916]\n",
      " [  0.2434  94.8891   4.0252   3.9013]\n",
      " [  0.2874  93.83     3.6438   2.2904]\n",
      " [  0.2855  88.6519   3.2819   1.4389]\n",
      " [  0.2627  89.4389   2.957    1.423 ]\n",
      " [  0.2844  97.8312   2.8376   1.5676]\n",
      " [  0.3141 107.5989   2.8869   1.5883]\n",
      " [  0.3164 110.894    2.9489   1.2015]\n",
      " [  0.2965 114.5201   2.8654   1.4021]\n",
      " [  0.2953 113.6963   2.7376   1.505 ]\n",
      " [  0.3115 113.2256   2.7169   1.7545]\n",
      " [  0.3246 116.1529   2.8046   1.348 ]\n",
      " [  0.3391 124.1995   2.9031   1.0248]\n",
      " [  0.3382  66.0201   3.2354   0.936 ]\n",
      " [  0.3615  82.503    3.4225   1.3917]\n",
      " [  0.3194  92.2707   3.3736   2.1287]\n",
      " [  0.2588  95.5658   3.2444   2.2178]\n",
      " [  0.2127  88.4975   3.3549   2.5205]\n",
      " [  0.2016  81.4439   3.9431   3.4127]\n",
      " [  0.292   75.9937   3.9562   2.4784]\n",
      " [  0.3977  82.4957   3.5361   1.234 ]\n",
      " [  0.3765  93.1165   3.4281   0.869 ]\n",
      " [  0.2887  93.8962   3.4668   0.5808]\n",
      " [  0.2204  84.2168   3.6035   0.723 ]\n",
      " [  0.2399  75.8466   3.9498   1.0939]\n",
      " [  0.2462  70.948    4.4971   1.8262]\n",
      " [  0.3055  58.8562   2.7415   0.3542]\n",
      " [  0.2802  60.6214   2.5555   0.3126]\n",
      " [  0.281   60.7391   2.549    0.3055]\n",
      " [  0.2512  61.3643   2.6905   0.3441]\n",
      " [  0.2636  59.9521   2.8599   0.4124]\n",
      " [  0.2567  58.9445   2.9079   0.4428]\n",
      " [  0.2608  53.3619   2.8136   0.3812]\n",
      " [  0.2362  53.3619   2.7028   0.3535]\n",
      " [  0.278   59.7535   2.5556   0.4028]\n",
      " [  0.254   57.5176   2.5506   0.3868]\n",
      " [  0.2507  56.5761   2.6617   0.3843]\n",
      " [  0.2465  59.577    2.8356   0.4313]\n",
      " [  0.2465  95.1466   3.3618   0.7198]\n",
      " [  0.3194  91.7706   3.3555   0.4759]\n",
      " [  0.3801  92.1237   3.2068   0.3458]\n",
      " [  0.3772  89.2993   3.0548   0.4057]\n",
      " [  0.3703  86.4969   2.981    0.3332]\n",
      " [  0.3947  81.5543   2.9866   0.2431]\n",
      " [  0.4017  80.1347   3.0137   0.2332]\n",
      " [  0.353   77.7811   3.0287   0.2449]\n",
      " [  0.3609  78.4872   3.0358   0.2974]\n",
      " [  0.3568  83.2018   3.0093   0.2867]\n",
      " [  0.3435  89.6744   2.9965   0.3226]\n",
      " [  0.3635  92.5576   3.0334   0.3542]\n",
      " [  0.3804  87.2619   3.0766   0.3617]\n",
      " [  0.3836  82.3192   3.078    0.3132]\n",
      " [  0.3569  80.4436   3.0229   0.2936]\n",
      " [  0.3694  82.2089   2.9721   0.3049]\n",
      " [  0.3496  83.7387   2.9778   0.3846]\n",
      " [  0.3591  88.9903   3.026    0.5418]\n",
      " [  0.1885  71.1981   2.6858   0.6765]\n",
      " [  0.18    58.253    2.5061   0.615 ]\n",
      " [  0.1801  56.3701   2.4116   0.542 ]\n",
      " [  0.1848  57.5469   2.3753   0.485 ]\n",
      " [  0.2     60.489    2.3762   0.4511]\n",
      " [  0.2026  62.622    2.4132   0.4311]\n",
      " [  0.1865  62.975    2.4663   0.4523]\n",
      " [  0.1724  65.0933   2.5046   0.5153]\n",
      " [  0.1642  63.7841   2.5178   0.5558]\n",
      " [  0.1814  59.2533   2.4822   0.5464]\n",
      " [  0.1909  55.8405   2.4717   0.477 ]\n",
      " [  0.1757  68.9622   2.3904   0.6332]\n",
      " [  0.1838  63.2031   2.3111   0.6086]\n",
      " [  0.1836  58.8488   2.2976   0.6222]\n",
      " [  0.1728  65.086    2.2941   0.6879]\n",
      " [  0.1638  76.2585   2.353    0.8049]\n",
      " [  0.179   60.8421   2.3493   1.1546]\n",
      " [  0.1757  45.7787   2.2026   0.7202]\n",
      " [  0.1759  39.8945   2.1049   0.5634]\n",
      " [  0.1808  38.4823   2.0408   0.5392]\n",
      " [  0.1913  37.8939   2.0443   0.5192]\n",
      " [  0.1885  34.5988   2.064    0.5069]\n",
      " [  0.1906  34.0839   2.1072   0.476 ]\n",
      " [  0.1914  37.4967   2.1488   0.4663]\n",
      " [  0.1912  41.6156   2.1562   0.466 ]\n",
      " [  0.1948  46.2494   2.1468   0.5069]\n",
      " [  0.1806  36.8494   1.9971   0.4826]\n",
      " [  0.1983  37.0848   2.0426   0.4887]\n",
      " [  0.1966  38.6      2.0662   0.5191]\n",
      " [  0.1994  37.0775   2.0551   0.532 ]\n",
      " [  0.1851  33.0762   1.9953   0.4925]\n",
      " [  0.1874  28.8397   1.9257   0.4595]\n",
      " [  0.1878  27.3024   1.8694   0.4557]\n",
      " [  0.1895  28.2439   1.8581   0.4149]\n",
      " [  0.1678  27.7732   1.8987   0.3924]\n",
      " [  0.1708  30.1268   1.9928   0.3825]\n",
      " [  0.1623  32.7158   2.0983   0.4869]\n",
      " [  0.1674  40.3652   2.1581   0.6409]\n",
      " [  0.1681  46.5509   2.1689   0.8046]\n",
      " [  0.1563  49.2576   2.1619   0.8242]\n",
      " [  0.1603  42.8831   2.1488   0.777 ]\n",
      " [  0.1557  38.7569   2.1103   0.676 ]\n",
      " [  0.1651  39.816    2.0755   0.6273]\n",
      " [  0.1615  48.3088   2.0713   0.6958]\n",
      " [  0.1852  52.1335   2.0923   0.8524]\n",
      " [  0.1857  51.7805   2.0902   0.7856]\n",
      " [  0.192   46.7201   2.0615   0.6912]\n",
      " [  0.1783  47.6469   2.0561   0.7061]\n",
      " [  0.1692  46.7054   2.0759   0.7704]\n",
      " [  0.162   50.942    2.0989   0.8499]\n",
      " [  0.1556  46.9555   2.1236   0.7778]\n",
      " [  0.1598  45.1534   2.1203   0.7763]\n",
      " [  0.1611  39.2693   2.1052   0.666 ]\n",
      " [  0.173   37.3864   2.0605   0.6042]\n",
      " [  0.1632  36.364    2.0627   0.6145]\n",
      " [  0.1782  38.2469   2.1053   0.6403]\n",
      " [  0.164   89.5272   2.3409   1.7702]\n",
      " [  0.1444  76.9352   2.3569   1.2509]\n",
      " [  0.1601  69.4035   2.3607   0.8447]\n",
      " [  0.1681  69.6683   2.3572   0.7382]\n",
      " [  0.1637  69.3152   2.3191   0.6986]\n",
      " [  0.1595  69.3152   2.293    0.8739]\n",
      " [  0.1663  67.6676   2.2882   0.9895]]\n"
     ]
    }
   ],
   "source": [
    "#feature selection sometimes when you have limited data you cannot do your feature selection\n",
    "#but if you have alot of variables then you will use feature selection\n",
    "from sklearn.feature_selection import SelectPercentile\n",
    "from sklearn.feature_selection import chi2 , f_classif \n",
    "#Feature Selection by Percentile\n",
    "#print('Original X Shape is ' , X.shape)\n",
    "FeatureSelection = SelectPercentile(score_func = chi2, percentile=80) # score_func can = f_classif\n",
    "F_NEW = FeatureSelection.fit_transform(f, k)\n",
    "print(F_NEW)\n",
    "#here we printed data after feature selection by using function of percentile 80 %\n"
   ]
  },
  {
   "cell_type": "code",
   "execution_count": 9,
   "metadata": {},
   "outputs": [
    {
     "data": {
      "image/png": "[encoded data removed]",
      "text/plain": [
       "<Figure size 432x288 with 1 Axes>"
      ]
     },
     "metadata": {
      "needs_background": "light"
     },
     "output_type": "display_data"
    }
   ],
   "source": [
    "#before doing normalization it is better to check your data if it have outliers or not to be able to use mini max normal\n",
    "#we will do matplotlip histogram\n",
    "bins=[20,40,60,80,100,120,150,200]\n",
    "plt.hist(f[\"GR\"],bins=bins,edgecolor=\"black\")\n",
    "plt.title(\"GR\")\n",
    "plt.show()"
   ]
  },
  {
   "cell_type": "code",
   "execution_count": 10,
   "metadata": {},
   "outputs": [
    {
     "data": {
      "image/png": "[encoded data removed]",
      "text/plain": [
       "<Figure size 432x288 with 1 Axes>"
      ]
     },
     "metadata": {
      "needs_background": "light"
     },
     "output_type": "display_data"
    },
    {
     "name": "stdout",
     "output_type": "stream",
     "text": [
      "0      0.2326\n",
      "1      0.2307\n",
      "2      0.2138\n",
      "3      0.3081\n",
      "4      0.2766\n",
      "        ...  \n",
      "179    0.1601\n",
      "180    0.1681\n",
      "181    0.1637\n",
      "182    0.1595\n",
      "183    0.1663\n",
      "Name: APLC, Length: 184, dtype: float64\n"
     ]
    }
   ],
   "source": [
    "bins=[0.1,0.2,0.3,0.4,0.5,0.6]\n",
    "plt.hist(f[\"APLC\"],bins=bins,edgecolor=\"black\")\n",
    "plt.show()\n",
    "print(f[\"APLC\"])\n",
    "#why histogram not appear well in APLC"
   ]
  },
  {
   "cell_type": "code",
   "execution_count": 11,
   "metadata": {},
   "outputs": [
    {
     "data": {
      "image/png": "[encoded data removed]",
      "text/plain": [
       "<Figure size 432x288 with 1 Axes>"
      ]
     },
     "metadata": {
      "needs_background": "light"
     },
     "output_type": "display_data"
    },
    {
     "name": "stdout",
     "output_type": "stream",
     "text": [
      "0      2.3788\n",
      "1      2.3810\n",
      "2      2.4049\n",
      "3      2.3022\n",
      "4      2.2380\n",
      "        ...  \n",
      "179    2.3914\n",
      "180    2.3768\n",
      "181    2.3705\n",
      "182    2.3846\n",
      "183    2.4204\n",
      "Name: RHOZ, Length: 184, dtype: float64\n"
     ]
    }
   ],
   "source": [
    "bins=[2,2.2,2.4,2.5,2.7,3]\n",
    "plt.hist(f[\"RHOZ\"],bins=bins,edgecolor=\"black\")\n",
    "plt.show()\n",
    "print(f[\"RHOZ\"])\n",
    "#why histogram not appear well in APLC"
   ]
  },
  {
   "cell_type": "code",
   "execution_count": 12,
   "metadata": {},
   "outputs": [
    {
     "name": "stdout",
     "output_type": "stream",
     "text": [
      "[[0.25602322 0.44086768 0.21803274 0.27095196]\n",
      " [0.25050798 0.38666998 0.23350752 0.28246346]\n",
      " [0.20145138 0.40989772 0.24563328 0.32462433]\n",
      " [0.47518142 0.52854007 0.2113347  0.34680453]\n",
      " [0.38374456 0.46151433 0.20125877 0.21756737]\n",
      " [0.30682148 0.48519718 0.18858446 0.18841861]\n",
      " [0.34513788 0.54584709 0.18099143 0.17986721]\n",
      " [0.37706821 0.46417179 0.0814447  0.13643185]\n",
      " [0.30798258 0.35061421 0.06839507 0.14471602]\n",
      " [0.29782293 0.29429157 0.0545948  0.17392645]\n",
      " [0.28330914 0.22066089 0.04922482 0.15920817]\n",
      " [0.30682148 0.23121229 0.05759737 0.14658663]\n",
      " [0.3149492  0.25307362 0.0826284  0.12851769]\n",
      " [0.4095791  0.28176695 0.13043855 0.12775711]\n",
      " [0.20493469 0.60125948 0.1888443  0.12857936]\n",
      " [0.18287373 0.59640072 0.18682334 0.13766522]\n",
      " [0.22931785 0.62608066 0.20056587 0.14488047]\n",
      " [0.19332366 0.68680693 0.21260502 0.137583  ]\n",
      " [0.208418   0.70380951 0.2338251  0.16229161]\n",
      " [0.27285922 0.57036485 0.30181598 0.18301231]\n",
      " [0.24760522 0.5439492  0.32574992 0.16847904]\n",
      " [0.24092888 0.59055637 0.35493836 0.17579707]\n",
      " [0.58171263 0.75011326 0.32167913 0.28199067]\n",
      " [0.86008708 0.75656547 0.30490516 0.05928423]\n",
      " [1.         0.69826858 0.31108352 0.02265299]\n",
      " [0.94484761 0.66380728 0.31550077 0.00951754]\n",
      " [0.712627   0.61530221 0.33140861 0.02174851]\n",
      " [0.69375907 0.58736846 0.34035858 0.03952967]\n",
      " [0.62060958 0.61833842 0.34593065 0.03733015]\n",
      " [0.73468795 0.65841702 0.35037676 0.0338767 ]\n",
      " [0.75907112 0.63291265 0.35213789 0.01991901]\n",
      " [0.86995646 0.5967805  0.3529174  0.01488273]\n",
      " [0.77097242 0.62107122 0.36380171 0.01295044]\n",
      " [0.75558781 0.60900171 0.38057568 0.0177606 ]\n",
      " [0.76197388 0.58182753 0.39307677 0.02306411]\n",
      " [0.84963716 0.52079784 0.39726304 0.02049458]\n",
      " [0.79970972 0.50614827 0.40808962 0.00555019]\n",
      " [0.55471698 0.50857662 0.42907873 0.        ]\n",
      " [0.43134978 0.84150609 0.28423362 0.28536189]\n",
      " [0.60522496 0.93828711 0.23469123 0.25183465]\n",
      " [0.46182874 0.90306624 0.21901435 0.21285999]\n",
      " [0.39854862 0.77918637 0.21188325 0.15795424]\n",
      " [0.28563135 0.65917762 0.2040015  0.16270274]\n",
      " [0.63193033 0.80036451 0.19184687 0.00713302]\n",
      " [0.75965167 0.78207088 0.19545573 0.00937365]\n",
      " [0.52278665 0.7796415  0.2141063  0.02392748]\n",
      " [0.43483309 0.83201768 0.25634437 0.14473657]\n",
      " [0.40406386 0.81509044 0.31697318 0.09077641]\n",
      " [0.40812772 0.75664184 0.54782458 0.11593726]\n",
      " [0.59013062 0.81182615 0.61991512 0.10376796]\n",
      " [0.63309144 0.84826171 0.6454947  0.20116348]\n",
      " [0.52307692 0.86890836 0.61419869 0.13507513]\n",
      " [0.39825835 0.85858504 0.5401738  0.13846691]\n",
      " [0.35936139 0.75778016 0.44781592 0.15729644]\n",
      " [0.32743106 0.56345856 0.35984641 0.16146936]\n",
      " [0.24731495 0.43479526 0.3047608  0.14198203]\n",
      " [0.23773585 0.3679976  0.2957531  0.15133513]\n",
      " [0.30827286 0.37528471 0.33400699 0.2056653 ]\n",
      " [0.32685051 0.38393822 0.37306926 0.32086254]\n",
      " [0.25515239 0.42887455 0.36902734 0.40980944]\n",
      " [0.54513788 0.61120405 0.67514508 0.18539684]\n",
      " [0.51117562 0.56307877 0.91387822 0.23156618]\n",
      " [0.39506531 0.59662983 1.         0.26466175]\n",
      " [0.28301887 0.62866278 0.96093773 0.37260263]\n",
      " [0.17939042 0.63594886 0.8455409  0.70999239]\n",
      " [0.17561684 0.65340758 0.73502324 1.        ]\n",
      " [0.287373   0.69751004 0.62566042 0.75531893]\n",
      " [0.41509434 0.68657989 0.51554696 0.42417826]\n",
      " [0.4095791  0.63314072 0.41106331 0.24914178]\n",
      " [0.34339623 0.64126274 0.31726189 0.24587333]\n",
      " [0.40638607 0.72787318 0.28279008 0.27559767]\n",
      " [0.49259797 0.82867805 0.29702341 0.27985282]\n",
      " [0.49927431 0.86268423 0.31492335 0.20034123]\n",
      " [0.44150943 0.9001064  0.29081618 0.24157708]\n",
      " [0.43802612 0.8916046  0.25391922 0.26272946]\n",
      " [0.4850508  0.88674687 0.24794295 0.31401731]\n",
      " [0.52307692 0.91695727 0.2732627  0.23045614]\n",
      " [0.56516691 1.         0.30170049 0.16401834]\n",
      " [0.56255443 0.39957543 0.39763836 0.14576438]\n",
      " [0.63018868 0.56968268 0.45165574 0.23943923]\n",
      " [0.50798258 0.67048756 0.43753789 0.3909388 ]\n",
      " [0.33207547 0.70449374 0.40023674 0.40925442]\n",
      " [0.19825835 0.63154728 0.43213904 0.4714782 ]\n",
      " [0.16603774 0.55875253 0.60195744 0.65488108]\n",
      " [0.42844702 0.50250523 0.60573953 0.46282402]\n",
      " [0.73526851 0.56960735 0.48445304 0.20702202]\n",
      " [0.67373004 0.67921641 0.45327251 0.1319917 ]\n",
      " [0.41886792 0.68726309 0.46444554 0.07274858]\n",
      " [0.22060958 0.58736949 0.503912   0.10197957]\n",
      " [0.27721335 0.50098713 0.60389179 0.17822271]\n",
      " [0.29550073 0.45043247 0.76190201 0.32875614]\n",
      " [0.46763425 0.32564236 0.25504518 0.02616811]\n",
      " [0.39419448 0.34385962 0.20134538 0.01761671]\n",
      " [0.39651669 0.34507431 0.19946878 0.01615721]\n",
      " [0.31001451 0.35152652 0.24032104 0.02409193]\n",
      " [0.34600871 0.33695229 0.28922828 0.03813185]\n",
      " [0.32597968 0.32655363 0.3030863  0.04438095]\n",
      " [0.33788099 0.26893994 0.27586107 0.0317183 ]\n",
      " [0.26647315 0.26893994 0.24387216 0.02602422]\n",
      " [0.38780842 0.3349027  0.20137425 0.03615845]\n",
      " [0.31814224 0.3118277  0.19993071 0.03286945]\n",
      " [0.30856313 0.30211121 0.23200624 0.03235554]\n",
      " [0.29637155 0.33308118 0.28221266 0.04201698]\n",
      " [0.29637155 0.7001675  0.43413113 0.10132177]\n",
      " [0.50798258 0.66532641 0.43231227 0.05118507]\n",
      " [0.68417997 0.66897049 0.3893813  0.02444138]\n",
      " [0.67576197 0.63982204 0.34549759 0.03675458]\n",
      " [0.65573295 0.61090064 0.32419089 0.0218513 ]\n",
      " [0.72656023 0.55989189 0.32580766 0.00333011]\n",
      " [0.74687954 0.54524129 0.33363167 0.00129504]\n",
      " [0.60551524 0.52095161 0.33796229 0.00370013]\n",
      " [0.62844702 0.52823872 0.34001213 0.01449216]\n",
      " [0.61654572 0.57689446 0.33236135 0.01229264]\n",
      " [0.57793904 0.64369315 0.32866588 0.01967233]\n",
      " [0.63599419 0.67344843 0.33931923 0.02616811]\n",
      " [0.6850508  0.61879561 0.35179144 0.02770983]\n",
      " [0.69433962 0.56778583 0.35219563 0.01774005]\n",
      " [0.61683599 0.54842921 0.33628778 0.01371102]\n",
      " [0.65312046 0.56664751 0.32162139 0.01603388]\n",
      " [0.59564586 0.58243539 0.32326703 0.03241721]\n",
      " [0.62322206 0.63663309 0.33718278 0.06473164]\n",
      " [0.12801161 0.45301356 0.23896411 0.09242091]\n",
      " [0.10333817 0.3194172  0.18708318 0.07977881]\n",
      " [0.10362845 0.29998524 0.15980021 0.06477275]\n",
      " [0.11727141 0.31213008 0.14932009 0.05305569]\n",
      " [0.16139332 0.34249322 0.14957993 0.04608712]\n",
      " [0.16894049 0.36450626 0.16026215 0.04197587]\n",
      " [0.1222061  0.3681493  0.17559257 0.04633379]\n",
      " [0.08127721 0.39001064 0.18665011 0.05928423]\n",
      " [0.0574746  0.3764994  0.19046107 0.06760951]\n",
      " [0.10740203 0.32974052 0.18018304 0.06567723]\n",
      " [0.13497823 0.29451965 0.1771516  0.05141119]\n",
      " [0.09085631 0.42993856 0.15367959 0.08352005]\n",
      " [0.11436865 0.37050335 0.130785   0.07846321]\n",
      " [0.1137881  0.32556599 0.12688743 0.08125886]\n",
      " [0.08243832 0.3899353  0.12587695 0.09476432]\n",
      " [0.0563135  0.50523803 0.14288189 0.11881514]\n",
      " [0.10043541 0.34613729 0.14181367 0.19070035]\n",
      " [0.09085631 0.1906796  0.09946011 0.10140399]\n",
      " [0.09143687 0.12995332 0.07125328 0.06917179]\n",
      " [0.10566038 0.1153791  0.05274706 0.06419718]\n",
      " [0.13613933 0.10930668 0.05375754 0.06008593]\n",
      " [0.12801161 0.0753005  0.0594451  0.05755751]\n",
      " [0.1341074  0.06998661 0.07191731 0.05120562]\n",
      " [0.13642961 0.10520748 0.08392759 0.04921167]\n",
      " [0.13584906 0.14771546 0.08606404 0.04915   ]\n",
      " [0.14629898 0.19553733 0.08335017 0.05755751]\n",
      " [0.10507983 0.0985272  0.0401305  0.05256234]\n",
      " [0.15645864 0.10095658 0.05326674 0.05381627]\n",
      " [0.15152395 0.11659379 0.06008026 0.06006537]\n",
      " [0.15965167 0.10088124 0.0568756  0.06271713]\n",
      " [0.11814224 0.05958692 0.03961082 0.05459741]\n",
      " [0.12481858 0.01586528 0.0195167  0.04781384]\n",
      " [0.12597968 0.         0.00326241 0.0470327 ]\n",
      " [0.13091437 0.00971649 0.         0.03864575]\n",
      " [0.06792453 0.00485876 0.01172157 0.0340206 ]\n",
      " [0.0766328  0.02914845 0.03888905 0.03198553]\n",
      " [0.05195936 0.05586751 0.06934781 0.05344626]\n",
      " [0.06676343 0.13481105 0.08661258 0.08510288]\n",
      " [0.06879536 0.19864888 0.08973063 0.11875347]\n",
      " [0.03454282 0.22658263 0.08770967 0.12278249]\n",
      " [0.04615385 0.16079635 0.08392759 0.11307994]\n",
      " [0.03280116 0.11821303 0.07281231 0.09231813]\n",
      " [0.06008708 0.12914318 0.06276525 0.08230723]\n",
      " [0.04963716 0.2167908  0.06155267 0.09638827]\n",
      " [0.11843251 0.25626257 0.06761556 0.12857936]\n",
      " [0.11988389 0.25261953 0.06700927 0.11484778]\n",
      " [0.13817126 0.20039506 0.05872333 0.09544268]\n",
      " [0.09840348 0.20995984 0.0571643  0.09850556]\n",
      " [0.07198839 0.20024335 0.06288073 0.11172323]\n",
      " [0.05108853 0.24396602 0.06952103 0.12806545]\n",
      " [0.03251089 0.20282444 0.07665214 0.11324439]\n",
      " [0.04470247 0.18422636 0.0756994  0.11293605]\n",
      " [0.04847605 0.12350112 0.0713399  0.0902625 ]\n",
      " [0.08301887 0.10406916 0.05843462 0.07755874]\n",
      " [0.05457184 0.09351776 0.05906978 0.07967603]\n",
      " [0.09811321 0.11294972 0.07136877 0.08497955]\n",
      " [0.05689405 0.64217402 0.13938852 0.31724464]\n",
      " [0.         0.51222173 0.14400785 0.21049602]\n",
      " [0.04557329 0.43449288 0.14510495 0.12699653]\n",
      " [0.06879536 0.43722568 0.14409447 0.10510412]\n",
      " [0.05602322 0.4335816  0.13309467 0.09696384]\n",
      " [0.04383164 0.4335816  0.12555937 0.13299895]\n",
      " [0.06357039 0.416578   0.12417357 0.15676198]]\n",
      "     SAND/SHALE\n",
      "0             1\n",
      "1             1\n",
      "2             1\n",
      "3             1\n",
      "4             1\n",
      "..          ...\n",
      "179           1\n",
      "180           1\n",
      "181           1\n",
      "182           1\n",
      "183           1\n",
      "\n",
      "[184 rows x 1 columns]\n"
     ]
    }
   ],
   "source": [
    "from sklearn.preprocessing import MinMaxScaler\n",
    "scaler = MinMaxScaler(copy=True, feature_range=(0, 1))\n",
    "X = scaler.fit_transform(F_NEW)\n",
    "print(X)\n",
    "y=k\n",
    "print(y)"
   ]
  },
  {
   "cell_type": "code",
   "execution_count": 13,
   "metadata": {},
   "outputs": [],
   "source": [
    "from sklearn.model_selection import train_test_split\n",
    "from sklearn.linear_model import LogisticRegression\n",
    "from sklearn.metrics import confusion_matrix\n",
    "import seaborn as sns\n",
    "import matplotlib.pyplot as plt\n",
    "from sklearn.metrics import accuracy_score\n",
    "from sklearn.metrics import f1_score\n",
    "from sklearn.metrics import recall_score\n",
    "from sklearn.metrics import precision_score\n",
    "from sklearn.metrics import precision_recall_fscore_support\n",
    "from sklearn.metrics import precision_recall_curve\n",
    "from sklearn.metrics import classification_report\n",
    "from sklearn.metrics import roc_curve\n",
    "from sklearn.metrics import auc\n",
    "from sklearn.metrics import roc_auc_score\n",
    "from sklearn.metrics import zero_one_loss\n",
    "X_train, X_test, y_train, y_test = train_test_split(X, y, test_size=0.33, random_state=44, shuffle =True)"
   ]
  },
  {
   "cell_type": "code",
   "execution_count": 14,
   "metadata": {},
   "outputs": [
    {
     "name": "stdout",
     "output_type": "stream",
     "text": [
      "LogisticRegressionModel Train Score is :  0.991869918699187\n",
      "LogisticRegressionModel Test Score is :  0.9836065573770492\n",
      "LogisticRegressionModel Classes are :  [0 1]\n",
      "LogisticRegressionModel No. of iteratios is :  [18]\n"
     ]
    },
    {
     "name": "stderr",
     "output_type": "stream",
     "text": [
      "C:\\Users\\hp\\anaconda3\\lib\\site-packages\\sklearn\\utils\\validation.py:72: DataConversionWarning: A column-vector y was passed when a 1d array was expected. Please change the shape of y to (n_samples, ), for example using ravel().\n",
      "  return f(**kwargs)\n"
     ]
    }
   ],
   "source": [
    "#linear_model.LogisticRegression(penalty='l2’,dual=False,tol=0.0001,C=1.0,fit_intercept=True,intercept_scaling=1,\n",
    "#                                class_weight=None,random_state=None,solver='warn’,max_iter=100,\n",
    "#                                multi_class='warn’, verbose=0,warm_start=False, n_jobs=None)\n",
    "LogisticRegressionModel = LogisticRegression(penalty='l2',max_iter=300,solver='sag',C=1.0,random_state=33)\n",
    "LogisticRegressionModel.fit(X_train, y_train)\n",
    "#Calculating Details\n",
    "print('LogisticRegressionModel Train Score is : ' , LogisticRegressionModel.score(X_train, y_train))\n",
    "print('LogisticRegressionModel Test Score is : ' , LogisticRegressionModel.score(X_test, y_test))\n",
    "print('LogisticRegressionModel Classes are : ' , LogisticRegressionModel.classes_)\n",
    "print('LogisticRegressionModel No. of iteratios is : ' , LogisticRegressionModel.n_iter_)\n"
   ]
  },
  {
   "cell_type": "code",
   "execution_count": 15,
   "metadata": {},
   "outputs": [
    {
     "name": "stdout",
     "output_type": "stream",
     "text": [
      "Predicted Value for LogisticRegressionModel is :  [0 0 0 0 1 0 1 0 0 1]\n",
      "Prediction Probabilities Value for LogisticRegressionModel is :  [[0.51906916 0.48093084]\n",
      " [0.67119437 0.32880563]\n",
      " [0.56387558 0.43612442]\n",
      " [0.51919123 0.48080877]\n",
      " [0.06615191 0.93384809]\n",
      " [0.79822741 0.20177259]\n",
      " [0.17348903 0.82651097]\n",
      " [0.78255627 0.21744373]\n",
      " [0.79411609 0.20588391]\n",
      " [0.14910052 0.85089948]]\n",
      "Confusion Matrix is : \n",
      " [[28  0]\n",
      " [ 1 32]]\n"
     ]
    },
    {
     "data": {
      "image/png": "[encoded data removed]",
      "text/plain": [
       "<Figure size 432x288 with 2 Axes>"
      ]
     },
     "metadata": {
      "needs_background": "light"
     },
     "output_type": "display_data"
    }
   ],
   "source": [
    "#Calculating Prediction\n",
    "y_pred = LogisticRegressionModel.predict(X_test)\n",
    "y_pred_prob = LogisticRegressionModel.predict_proba(X_test)\n",
    "print('Predicted Value for LogisticRegressionModel is : ' , y_pred[:10])\n",
    "print('Prediction Probabilities Value for LogisticRegressionModel is : ' , y_pred_prob[:10])\n",
    "\n",
    "#----------------------------------------------------\n",
    "#Calculating Confusion Matrix\n",
    "CM = confusion_matrix(y_test, y_pred)\n",
    "print('Confusion Matrix is : \\n', CM)\n",
    "# drawing confusion matrix\n",
    "sns.heatmap(CM, center = True)\n",
    "plt.show()\n",
    "#results showing 28 true postive while 1 false negative 0 is false postive\n",
    "#false neagtive is 1 and true negative is \n",
    "#here he used shale as true postive while negative was sand based on confusion matrix\n",
    "#he predicted around 28 point for shale correct while he prediced only one time sand as shale\n",
    "#while he didnot have value of false postive which suggest he was not fail to predict shale and actual value was sand\n",
    "#he predicted 32 correct values of sand"
   ]
  },
  {
   "cell_type": "code",
   "execution_count": 18,
   "metadata": {},
   "outputs": [
    {
     "name": "stdout",
     "output_type": "stream",
     "text": [
      "Accuracy Score is :  0.9836065573770492\n"
     ]
    }
   ],
   "source": [
    "#Accuracy score is used to find portion of accurately classified variable\n",
    "#it tell us how often our classifer is right\n",
    "#Calculating Accuracy Score  : ((TP + TN) / float(TP + TN + FP + FN))\n",
    "AccScore = accuracy_score(y_test, y_pred, normalize=True)\n",
    "print('Accuracy Score is : ', AccScore)"
   ]
  },
  {
   "cell_type": "code",
   "execution_count": 16,
   "metadata": {},
   "outputs": [
    {
     "name": "stdout",
     "output_type": "stream",
     "text": [
      "F1 Score is :  0.9836065573770492\n"
     ]
    }
   ],
   "source": [
    "#precision is when the model predict postive value, how often it is right?\n",
    "#rcall how often model actually predict postive value\n",
    "#f1 score is harmonic mean when you need to take both precision and recall into account\n",
    "#Calculating F1 Score  : 2 * (precision * recall) / (precision + recall)\n",
    "# f1_score(y_true, y_pred, labels=None, pos_label=1, average=’binary’, sample_weight=None)\n",
    "\n",
    "F1Score = f1_score(y_test, y_pred, average='micro') #it can be : binary,macro,weighted,samples\n",
    "print('F1 Score is : ', F1Score)"
   ]
  },
  {
   "cell_type": "code",
   "execution_count": 19,
   "metadata": {},
   "outputs": [
    {
     "name": "stdout",
     "output_type": "stream",
     "text": [
      "Recall Score is :  0.9836065573770492\n",
      "Precision Score is :  0.9836065573770492\n"
     ]
    }
   ],
   "source": [
    "\n",
    "RecallScore = recall_score(y_test, y_pred, average='micro') #it can be : binary,macro,weighted,samples\n",
    "print('Recall Score is : ', RecallScore)\n",
    "\n",
    "#----------------------------------------------------\n",
    "#Calculating Precision Score : (Specificity) #(TP / float(TP + FP))  \n",
    "# precision_score(y_true, y_pred, labels=None, pos_label=1, average=’binary’,sample_weight=None)\n",
    "\n",
    "PrecisionScore = precision_score(y_test, y_pred, average='micro') #it can be : binary,macro,weighted,samples\n",
    "print('Precision Score is : ', PrecisionScore)"
   ]
  },
  {
   "cell_type": "code",
   "execution_count": 20,
   "metadata": {},
   "outputs": [
    {
     "name": "stdout",
     "output_type": "stream",
     "text": [
      "Precision Value is :  [0.54098361 1.         1.        ]\n",
      "Recall Value is :  [1.         0.96969697 0.        ]\n",
      "Thresholds Value is :  [0 1]\n"
     ]
    }
   ],
   "source": [
    "PrecisionValue, RecallValue, ThresholdsValue = precision_recall_curve(y_test,y_pred)\n",
    "print('Precision Value is : ', PrecisionValue)\n",
    "print('Recall Value is : ', RecallValue)\n",
    "print('Thresholds Value is : ', ThresholdsValue)"
   ]
  },
  {
   "cell_type": "code",
   "execution_count": 21,
   "metadata": {},
   "outputs": [
    {
     "name": "stdout",
     "output_type": "stream",
     "text": [
      "Classification Report is :                precision    recall  f1-score   support\n",
      "\n",
      "           0       0.97      1.00      0.98        28\n",
      "           1       1.00      0.97      0.98        33\n",
      "\n",
      "    accuracy                           0.98        61\n",
      "   macro avg       0.98      0.98      0.98        61\n",
      "weighted avg       0.98      0.98      0.98        61\n",
      "\n"
     ]
    }
   ],
   "source": [
    "\n",
    "ClassificationReport = classification_report(y_test,y_pred)\n",
    "print('Classification Report is : ', ClassificationReport )"
   ]
  },
  {
   "cell_type": "code",
   "execution_count": 25,
   "metadata": {},
   "outputs": [
    {
     "name": "stdout",
     "output_type": "stream",
     "text": [
      "fpr Value  :  [0. 0. 1.]\n",
      "tpr Value  :  [0.         0.96969697 1.        ]\n",
      "thresholds Value  :  [2 1 0]\n"
     ]
    }
   ],
   "source": [
    "#Calculating Receiver Operating Characteristic :  \n",
    "#roc_curve(y_true, y_score, pos_label=None, sample_weight=None,drop_intermediate=True)\n",
    "\n",
    "fprValue, tprValue, thresholdsValue = roc_curve(y_test,y_pred)\n",
    "print('fpr Value  : ', fprValue)\n",
    "print('tpr Value  : ', tprValue)\n",
    "print('thresholds Value  : ', thresholdsValue)\n",
    "#TPR is true postive rate which is sensitivity in this example tpr will tell us which portion of shale correctely classified\n",
    "#FPR is false postive which is 1-specficity rate tell which portions of sand that were incorrectly classified\n",
    "#why he gave me 3 threshold values if i want to know which one was coorect"
   ]
  },
  {
   "cell_type": "code",
   "execution_count": 23,
   "metadata": {},
   "outputs": [
    {
     "name": "stdout",
     "output_type": "stream",
     "text": [
      "ROCAUC Score :  0.9848484848484849\n",
      "Zero One Loss Value :  1\n"
     ]
    }
   ],
   "source": [
    "#Calculating ROC AUC Score:  \n",
    "#roc_auc_score(y_true, y_score, average=’macro’, sample_weight=None,max_fpr=None)\n",
    "\n",
    "ROCAUCScore = roc_auc_score(y_test,y_pred, average='micro') #it can be : macro,weighted,samples\n",
    "print('ROCAUC Score : ', ROCAUCScore)\n",
    "\n",
    "#----------------------------------------------------\n",
    "#Calculating Zero One Loss:  \n",
    "#zero_one_loss(y_true, y_pred, normalize = True, sample_weight = None)\n",
    "\n",
    "ZeroOneLossValue = zero_one_loss(y_test,y_pred,normalize=False) \n",
    "print('Zero One Loss Value : ', ZeroOneLossValue )"
   ]
  },
  {
   "cell_type": "code",
   "execution_count": 27,
   "metadata": {},
   "outputs": [
    {
     "data": {
      "image/png": "[encoded data removed]",
      "text/plain": [
       "<Figure size 500x500 with 1 Axes>"
      ]
     },
     "metadata": {
      "needs_background": "light"
     },
     "output_type": "display_data"
    }
   ],
   "source": [
    "from sklearn.metrics import roc_auc_score\n",
    "logistic_fpr, logistic_tpr, threshold= roc_curve(y_test,y_pred)\n",
    "auc_logistic= auc(logistic_fpr, logistic_tpr)\n",
    "plt.figure(figsize=(5,5), dpi=100)\n",
    "plt.plot(logistic_fpr, logistic_tpr, marker='.', label='logistic (auc=%0.3f)'% auc_logistic)\n",
    "plt.xlabel('1-specificity')\n",
    "plt.ylabel('sensitivity')\n",
    "plt.legend()\n",
    "plt.show()"
   ]
  },
  {
   "cell_type": "code",
   "execution_count": null,
   "metadata": {},
   "outputs": [],
   "source": []
  }
 ],
 "metadata": {
  "kernelspec": {
   "display_name": "Python 3",
   "language": "python",
   "name": "python3"
  },
  "language_info": {
   "codemirror_mode": {
    "name": "ipython",
    "version": 3
   },
   "file_extension": ".py",
   "mimetype": "text/x-python",
   "name": "python",
   "nbconvert_exporter": "python",
   "pygments_lexer": "ipython3",
   "version": "3.8.5"
  }
 },
 "nbformat": 4,
 "nbformat_minor": 4
}
