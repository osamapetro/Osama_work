{
 "cells": [
  {
   "cell_type": "code",
   "execution_count": 1,
   "metadata": {},
   "outputs": [
    {
     "name": "stdout",
     "output_type": "stream",
     "text": [
      "[ 13  17  89  45  90  18 300]\n",
      "[ 2 65 78 98 76 89]\n",
      "[30, 50, 70, 90]\n",
      "[30 50 70 90]\n",
      "[[ 3  6  8  9]\n",
      " [13 78 90 70]]\n",
      "[[[  3   8   9  10]\n",
      "  [  4   9  10  14]]\n",
      "\n",
      " [[ 50  80  90  99]\n",
      "  [ 70  75  99 102]]]\n"
     ]
    }
   ],
   "source": [
    "#numpy examples and tips and excersices \n",
    "#importing numpy \n",
    "#two methods of importing\n",
    "#first method to import numpy as import numpy then enter variable \n",
    "# as for example array_1 = numpy.array\n",
    "import numpy\n",
    "array_1=numpy.array([13,17,89,45,90,18,300])\n",
    "print(array_1)\n",
    "#second method to import also but clarify while import that numpy as np \n",
    "#but use shortcut as no.array instead of using numpy\n",
    "import numpy as np\n",
    "array_2= np.array([2,65,78,98,76,89])\n",
    "print(array_2)\n",
    "#two arrays were printed by two methods \n",
    "#take care in variable explorer it is said that these data are array of integar\n",
    "#convert list into array\n",
    "list_1=[30,50,70,90]\n",
    "import numpy as np\n",
    "print(list_1)\n",
    "array_3=np.array([30,50,70,90])\n",
    "#can we try another method to convert dierctly list into array instead of copying data into new variable\n",
    "print(array_3)\n",
    "#2d arrays excercise\n",
    "import numpy as np\n",
    "array_2d_1=np.array([[3,6,8,9],[13,78,90,70]])\n",
    "print(array_2d_1)\n",
    "#3d array excercise take care array data should be the same amount of numbers in bracket.\n",
    "import numpy as np\n",
    "array_3d=np.array([[[3,8,9,10],[4,9,10,14]], \n",
    "[[50,80,90,99],[70,75,99,102]]])\n",
    "print(array_3d)"
   ]
  },
  {
   "cell_type": "code",
   "execution_count": 2,
   "metadata": {},
   "outputs": [
    {
     "name": "stdout",
     "output_type": "stream",
     "text": [
      "1\n",
      "1\n",
      "2\n",
      "3\n"
     ]
    }
   ],
   "source": [
    "#more excersices of numpy\n",
    "#check dimension of numpy \n",
    "#dimension is used to know it is 1d, 2d and 3d\n",
    "import numpy as np\n",
    "a=np.array([43])\n",
    "b=np.array([4,5,6,9])\n",
    "c=np.array([[3,9,11],[65,78,90]])\n",
    "d=np.array([[[4,3,6],[8,3,1]],[[56,32,45],[78,34,21]]])\n",
    "print(a.ndim)\n",
    "print(b.ndim)\n",
    "print(c.ndim)\n",
    "print(d.ndim)\n",
    "#first one is considered to be scalar\n",
    "#second one is considered to be 1d array\n",
    "#third one consider as 2d array \n",
    "# fourth one is considered as 3d array \n"
   ]
  },
  {
   "cell_type": "code",
   "execution_count": 2,
   "metadata": {},
   "outputs": [
    {
     "name": "stdout",
     "output_type": "stream",
     "text": [
      "1\n",
      "[0.15 0.21 0.22 0.35 0.17 0.19]\n",
      "0.22 0.35\n",
      "2\n",
      "[[0.05 0.08 0.09]\n",
      " [0.09 0.7  0.04]]\n",
      "0.09\n",
      "0.04\n",
      "[0.7  0.04]\n",
      "[0.22 0.35 0.17 0.19]\n",
      "[0.22 0.35 0.17]\n",
      "[0.15 0.22 0.17]\n",
      "[0.15 0.21 0.22 0.35 0.17 0.19]\n",
      "[[0.71660806 0.86997409 0.41618028 0.92691604]\n",
      " [0.75955627 0.40765186 0.83858365 0.01856445]]\n"
     ]
    }
   ],
   "source": [
    "#exercise for numpy for acessing elements\n",
    "import numpy as np\n",
    "porosity=np.array([0.15,0.21,0.22,0.35,0.17,0.19])\n",
    "print(porosity.ndim)\n",
    "print(porosity)\n",
    "print(porosity[2], porosity[3])\n",
    "#excercise for numpy to access element in 2d\n",
    "pad=np.array([[0.05,0.08,0.09],   #0 in 2d it will take first row while 1 means second row in case of accessing element\n",
    "              [0.09,0.7,0.04]])\n",
    "print(pad.ndim)\n",
    "print(pad)\n",
    "print(pad[0,2])\n",
    "print(pad[1,-1])\n",
    "#array slicing\n",
    "#2d array slicing\n",
    "print(pad[1,1:])  \n",
    "#here he will print first two which means second row in pads and from first variable which means 0.7 to 0.04\n",
    "#1d array slicing\n",
    "print(porosity[2:])\n",
    "#array slice using from to. for 1d\n",
    "print(porosity[-4:-1])\n",
    "#array slice using step. for 1d\n",
    "print(porosity[0:5:2])\n",
    "#if i donot specify you start from where or end where \n",
    "print(porosity[::1])\n",
    "#array function using random values:\n",
    "volume_of_shale=np.random.random(size =(2, 4)) # check about size ?? when i use size 2,4 it gives me float numbers why??\n",
    "print(volume_of_shale)"
   ]
  },
  {
   "cell_type": "code",
   "execution_count": 12,
   "metadata": {},
   "outputs": [
    {
     "name": "stdout",
     "output_type": "stream",
     "text": [
      "[  4   3   7  90 789  56]\n",
      "[  4   3   7  98 789  56]\n",
      "[  4   3   7  90 789  56]\n",
      "(10,)\n",
      "[[ 3  6  9 12 15]\n",
      " [18 21 24 27 30]]\n",
      "(2, 5)\n",
      "[[[ 3  6]\n",
      "  [ 9 12]\n",
      "  [15 18]]\n",
      "\n",
      " [[21 24]\n",
      "  [27 30]\n",
      "  [33 36]]\n",
      "\n",
      " [[47 89]\n",
      "  [23 56]\n",
      "  [37 90]]\n",
      "\n",
      " [[28 19]\n",
      "  [14 67]\n",
      "  [76 15]]]\n"
     ]
    }
   ],
   "source": [
    "#excersice for copy shape and reshape for numpy\n",
    "#copy example where data is original data while x is copied data\n",
    "#where i changed in original data while copy remained the same\n",
    "import numpy as np\n",
    "data=np.array([4,3,7,98,789,56])\n",
    "x=data.copy()\n",
    "data[3]=90 #here i changed value of 98 by using 90\n",
    "print(data)\n",
    "print(x)\n",
    "#if you want also to modify in your copy variable \n",
    "#you will use function called view\n",
    "y=data.view()\n",
    "print(y)\n",
    "#The reshape() function returns a new array and can therefore create new objects.\n",
    "#However if you want to modify the object by modifying the shape, you have to assign a\n",
    "#tuple containing the new dimensions directly to its shape attribute.\n",
    "#training for reshape function of numpy\n",
    "import numpy as np\n",
    "log_data=np.array([3,6,9,12,15,18,21,24,27,30])\n",
    "print(log_data.shape)\n",
    "t=log_data.reshape(2,5)  #when i used (2,5) 2 means 2 rows #starting f reshape function use rows then columns\n",
    "#while 5 means 5 columns \n",
    "print(t)\n",
    "print(t.shape) #here when you print t.shape it gives how \n",
    "#how many columns and rows while ndim give you 1d or 2d or 3d\n",
    "log_data_1=np.array([3,6,9,12,15,18,21,24,27,30,33,36,47,89,23,56,37,90,28,19,14,67,76,15])\n",
    "p=log_data_1.reshape(4,3,2) #here means 2 dimension with 3 rows in 2 dimension\n",
    "print(p)\n",
    "#when you use rehsape but 3 the third one indicate \n",
    "#changing from 1 into 2d\n",
    "#in previous example you created 2 matrixes"
   ]
  },
  {
   "cell_type": "code",
   "execution_count": 5,
   "metadata": {},
   "outputs": [
    {
     "name": "stdout",
     "output_type": "stream",
     "text": [
      "[[1.e-01 1.e+01 4.e+01 3.e+02]\n",
      " [3.e+01 5.e+01 5.e+02 1.e+03]]\n",
      "[1.e-01 1.e+01 4.e+01 3.e+02 3.e+01 5.e+01 5.e+02 1.e+03]\n",
      "[   1   10   40  300    2   50  500 1000]\n",
      "[   1   10   40  300    2   50  500 1000]\n",
      "1\n",
      "10\n",
      "40\n",
      "300\n",
      "2\n",
      "50\n",
      "500\n",
      "1000\n"
     ]
    }
   ],
   "source": [
    "#flattening excersice \n",
    "import numpy as np\n",
    "permeability=np.array([[0.1,10,40,300],[30,50,500,1000]])\n",
    "NEW_perm=permeability.reshape(-1)\n",
    "print(permeability)\n",
    "print(NEW_perm)\n",
    "#check does array data must be integars or floats it cannot be both of them\n",
    "#change data into 1,3,2\n",
    "data=np.array([[1,10,40,300],[2,50,500,1000]])\n",
    "new_data=data.reshape(-1)\n",
    "print(new_data)\n",
    "#using for function with array data\n",
    "data=np.array([[1,10,40,300],[2,50,500,1000]])\n",
    "new_data=data.reshape(-1)\n",
    "print(new_data)\n",
    "for x in new_data:\n",
    "    print(x)\n",
    "#add flatten code for numpy "
   ]
  },
  {
   "cell_type": "code",
   "execution_count": 13,
   "metadata": {},
   "outputs": [
    {
     "name": "stdout",
     "output_type": "stream",
     "text": [
      "[[ 1  3  6]\n",
      " [ 5  8 10]]\n",
      "[1 3 6]\n",
      "[ 5  8 10]\n",
      "1\n",
      "3\n",
      "6\n",
      "5\n",
      "8\n",
      "10\n"
     ]
    }
   ],
   "source": [
    "#iterating for numpy array\n",
    "import numpy as np\n",
    "values=np.array([[1,3,6],[5,8,10]])\n",
    "print(values)\n",
    "for x in values:\n",
    "    print(x)   #in this example he printed first array then second not each \n",
    "    #value because x here is consider to be related to arrays not values\n",
    "    #but if you want to print each element or each value use another nest loops \n",
    "    #like y in x\n",
    "for s in values:\n",
    "    for y in s:\n",
    "        print(y)\n",
    "#so we used nested loops to print all elements in 2d array.\n"
   ]
  },
  {
   "cell_type": "code",
   "execution_count": 9,
   "metadata": {},
   "outputs": [
    {
     "name": "stdout",
     "output_type": "stream",
     "text": [
      "[ 4  9 15  8 16 36]\n",
      "[[ 4  5 10  7 14 18]\n",
      " [90 70 50 87 56 14]]\n",
      "[[ 4  5 10]\n",
      " [90 70 50]\n",
      " [ 7 14 18]\n",
      " [87 56 14]]\n"
     ]
    }
   ],
   "source": [
    "#joining of 1d arrays\n",
    "import numpy as np\n",
    "data_1=np.array([4,9,15])\n",
    "data_2=np.array([8,16,36])\n",
    "combined_data=np.concatenate((data_1,data_2))  #take care two brackets not one\n",
    "print(combined_data)\n",
    "#joining of 2d arrays\n",
    "array_1=np.array([[4,5,10],[90,70,50]])\n",
    "array_2=np.array([[7,14,18],[87,56,14]])\n",
    "combined_array=np.concatenate((array_1,array_2), axis=1)\n",
    "print(combined_array)  #when you say axis =1 it means\n",
    "# that you will combine them as two rows where first array in both will be combined\n",
    "#in one row while other will be combined in next row\n",
    "array_1=np.array([[4,5,10],[90,70,50]])\n",
    "array_2=np.array([[7,14,18],[87,56,14]])\n",
    "combined_array=np.concatenate((array_1,array_2), axis=0)\n",
    "print(combined_array)"
   ]
  },
  {
   "cell_type": "code",
   "execution_count": 10,
   "metadata": {},
   "outputs": [
    {
     "name": "stdout",
     "output_type": "stream",
     "text": [
      "[array([4, 3, 2]), array([ 7,  9, 11]), array([100,   8, 300])]\n",
      "[4 3 2]\n",
      "[ 7  9 11]\n",
      "[100   8 300]\n",
      "[array([[ 40,  70, 100,  90,  70,  80]]), array([[33, 43, 64, 78, 56, 45]]), array([], shape=(0, 6), dtype=int32)]\n"
     ]
    }
   ],
   "source": [
    "#splitting of numpy data \n",
    "import numpy as np\n",
    "logs=np.array([4,3,2,7,9,11,100,8,300])\n",
    "split_logs=np.array_split(logs,3)\n",
    "print(split_logs)\n",
    "#access the splitted array\n",
    "print(split_logs[0])\n",
    "print(split_logs[1])\n",
    "print(split_logs[2])\n",
    "#split 2d array into three 2d arrays\n",
    "logs_2d=([[40,70,100,90,70,80],[33,43,64,78,56,45]])\n",
    "split_logs_2d=np.array_split(logs_2d,3)\n",
    "print(split_logs_2d)\n",
    "#check why it gave this results??\n",
    "#[array([[ 40,  70, 100,  90,  70,  80]]), \n",
    "#array([[33, 43, 64, 78, 56, 45]]), \n",
    "#array([], shape=(0, 6), dtype=int32)]"
   ]
  },
  {
   "cell_type": "code",
   "execution_count": 19,
   "metadata": {},
   "outputs": [
    {
     "name": "stdout",
     "output_type": "stream",
     "text": [
      "(array([3], dtype=int64),)\n",
      "(array([0, 1, 2, 3, 4, 6], dtype=int64),)\n",
      "6\n",
      "[ 3 21 23 33]\n",
      "[33 23 21  3]\n"
     ]
    }
   ],
   "source": [
    "#array search \n",
    "import numpy as np\n",
    "logs=np.array([1,3,7,9,100])\n",
    "f=np.where(logs==9)  #9when you search in array you search for value\n",
    "print(f)\n",
    "#find indexex where number is even\n",
    "values=np.array([2,6,8,10,24,53,64,73,101])\n",
    "k=np.where(values%2 ==0)\n",
    "print(k)\n",
    "#find the indexex where values should be inserted when you print \n",
    "#place where 64 inserted so you will print 6 because 6\n",
    "#is index of 64\n",
    "x=np.searchsorted(values, 64)\n",
    "print(x)\n",
    "#soring of array \n",
    "nmr=np.array([33,23,21,3])\n",
    "print(np.sort(nmr))  #sorting is always from smallest to largest\n",
    "nmr[::-1].sort  #this is function to sort from largest to smallest\n",
    "print(nmr)\n"
   ]
  },
  {
   "cell_type": "code",
   "execution_count": 23,
   "metadata": {},
   "outputs": [
    {
     "name": "stdout",
     "output_type": "stream",
     "text": [
      "[[ 6  9 11 13 24]\n",
      " [14 24 65 74 98]]\n",
      "[False False  True  True]\n"
     ]
    }
   ],
   "source": [
    "#sorting 2d array \n",
    "import numpy as np\n",
    "data_array=np.array([[13,6,9,11,24],[74,24,98,14,65]])\n",
    "print(np.sort(data_array))\n",
    "#here he do sorting for each array alone without interfer with other arrays\n",
    "#sorting boolen array\n",
    "import numpy as np\n",
    "booelan_data=np.array([True,False,True,False])\n",
    "print(np.sort(booelan_data))\n",
    "#check why it make from false to true???\n"
   ]
  },
  {
   "cell_type": "code",
   "execution_count": 27,
   "metadata": {},
   "outputs": [
    {
     "name": "stdout",
     "output_type": "stream",
     "text": [
      "1\n",
      "0.08274017004854162\n",
      "[63 79 28 46 66]\n",
      "[[59 70 74 71  8]\n",
      " [69 74  4 90 33]\n",
      " [55 83  7 90 28]]\n"
     ]
    }
   ],
   "source": [
    "#random functions for numpy \n",
    "#generate random integars from 0 to 100\n",
    "import numpy as np\n",
    "from numpy import random #take care you import two things first numpy\n",
    "#second you import random\n",
    "l=random.randint(100)\n",
    "print(l)  #this means you print everytime\n",
    "#random values sometimes 24 or 74 or 0 any integar values.\n",
    "#create random float number from 0 to 1\n",
    "v=random.rand()\n",
    "print(v)  #here you print random float value from 0 to\n",
    "#if i want to create vector value i add new function to \n",
    "#first one\n",
    "q=random.randint(100,size=(5))\n",
    "print(q) #here he printed random array 5 values\n",
    "#generate 2d array with 3 rows and each row contain 5 random \n",
    "#integars from 0 to 100\n",
    "r=random.randint(100,size=(3,5))\n",
    "print(r)\n"
   ]
  },
  {
   "cell_type": "code",
   "execution_count": 1,
   "metadata": {},
   "outputs": [
    {
     "name": "stdout",
     "output_type": "stream",
     "text": [
      "[0.10830659 0.54110714 0.22337729 0.56612848 0.43041245]\n",
      "[[0.32353235 0.18510966 0.22192914 0.32602691 0.58338939]\n",
      " [0.91587717 0.58071812 0.50170413 0.46731936 0.28750424]\n",
      " [0.13320234 0.25771465 0.17932367 0.09287525 0.90160817]]\n",
      "90\n",
      "[[77 77 77 13 13]\n",
      " [65 99 99 65 77]\n",
      " [77 65 99 65 99]]\n"
     ]
    }
   ],
   "source": [
    "#generate 1d array contain 5 random values:\n",
    "import numpy as np\n",
    "from numpy import random\n",
    "h=random.rand(5)\n",
    "print(h)  #this example of 1d array for 5 float\n",
    "#numbers but why when we print it was 0.5 but no \n",
    "#float 1.5 or 2.2\n",
    "from numpy import random  #generate 2d array\n",
    "#with 3 rows each row contain 5 random numbers\n",
    "d=random.rand(3,5)\n",
    "print(d)\n",
    "u=random.choice([3,7,80,90])\n",
    "print(u)\n",
    "p=random.choice([77,99,65,13], size=(3,5))\n",
    "print(p)  #here he printed random data as 3 rows\n",
    "# and 5 columns "
   ]
  },
  {
   "cell_type": "code",
   "execution_count": 28,
   "metadata": {},
   "outputs": [
    {
     "name": "stdout",
     "output_type": "stream",
     "text": [
      "[ 80 180  90]\n",
      "[33 65 36 99]\n"
     ]
    }
   ],
   "source": [
    "#numpy filtering to return value for example higher than 70`\n",
    "import numpy as np\n",
    "shearslowness=np.array([80,70,30,180,90])\n",
    "filter_shearslowness=shearslowness>70\n",
    "#check this equation, check numpy filtering =!\n",
    "print(shearslowness[filter_shearslowness])\n",
    "my_list_osama=[33,65,36,99]\n",
    "my_array_osama=np.array([33,65,36,99])\n",
    "print(my_array_osama)"
   ]
  },
  {
   "cell_type": "code",
   "execution_count": 3,
   "metadata": {},
   "outputs": [
    {
     "name": "stdout",
     "output_type": "stream",
     "text": [
      "[[0.79957    0.76615141 0.70436708 0.94629786]\n",
      " [0.8702564  0.90540635 0.62933642 0.32618101]]\n"
     ]
    }
   ],
   "source": [
    "#array function using random values:\n",
    "volume_of_shale=np.random.random(size =(2, 4)) # check about size ?? when i use size 2,4 it gives me float numbers why??\n",
    "print(volume_of_shale)"
   ]
  },
  {
   "cell_type": "code",
   "execution_count": 4,
   "metadata": {},
   "outputs": [
    {
     "name": "stdout",
     "output_type": "stream",
     "text": [
      "[[[ 3  6]\n",
      "  [ 9 12]\n",
      "  [15 18]]\n",
      "\n",
      " [[21 24]\n",
      "  [27 30]\n",
      "  [33 36]]]\n"
     ]
    }
   ],
   "source": [
    "#how many columns and rows while ndim give you 1d or 2d or 3d\n",
    "log_data_1=np.array([3,6,9,12,15,18,21,24,27,30,33,36])\n",
    "p=log_data_1.reshape(2,3,2)\n",
    "print(p)\n",
    "#when you use rehsape but 3 the third one indicate \n",
    "#changing from 1 into 2d\n",
    "#in previous example you created 2 matrixes here 2 means 2 columns and 3 means 3 rows in this example you have\n",
    "#10 values which means that if you use 2,3,2 it will lead to 2d dimension have two columns with 3 rows\n"
   ]
  },
  {
   "cell_type": "code",
   "execution_count": 8,
   "metadata": {},
   "outputs": [
    {
     "name": "stdout",
     "output_type": "stream",
     "text": [
      "[[ 3  6  8  9]\n",
      " [13 78 90 70]]\n",
      "[[ 3  6  8  9]\n",
      " [13 78 90 70]]\n",
      "[ 3  6  8  9 13 78 90 70]\n"
     ]
    }
   ],
   "source": [
    "array_2d_1=np.array([[3,6,8,9],[13,78,90,70]])\n",
    "print(array_2d_1)\n",
    "copied_2d_array=array_2d_1.copy()\n",
    "print(copied_2d_array)\n",
    "#The inverse operation is also possible, that is, you can convert a#two-dimensional #array into a one-dimensional array\n",
    "# by using the ravel() function.\n",
    "copied_1d=copied_2d_array.ravel()\n",
    "print(copied_1d)"
   ]
  },
  {
   "cell_type": "code",
   "execution_count": 10,
   "metadata": {},
   "outputs": [
    {
     "name": "stdout",
     "output_type": "stream",
     "text": [
      "[[ 3  6  8  9]\n",
      " [13 78 90 70]]\n"
     ]
    },
    {
     "data": {
      "text/plain": [
       "array([[ 3, 13],\n",
       "       [ 6, 78],\n",
       "       [ 8, 90],\n",
       "       [ 9, 70]])"
      ]
     },
     "execution_count": 10,
     "metadata": {},
     "output_type": "execute_result"
    }
   ],
   "source": [
    "#Another important operation is transposing a matrix, which is inverting the columns\n",
    "#with the rows. NumPy provides this feature with the transpose() function.\n",
    "print(array_2d_1)\n",
    "array_2d_1.transpose()"
   ]
  },
  {
   "cell_type": "code",
   "execution_count": 18,
   "metadata": {},
   "outputs": [
    {
     "name": "stdout",
     "output_type": "stream",
     "text": [
      "[array([[ 40,  70, 100,  90,  70,  80]]), array([[33, 43, 64, 78, 56, 45]]), array([], shape=(0, 6), dtype=int32)]\n"
     ]
    }
   ],
   "source": [
    "logs_2d=([[40,70,100,90,70,80],[33,43,64,78,56,45]])\n",
    "split_logs_2d=np.array_split(logs_2d,3)\n",
    "print(split_logs_2d)\n",
    "#check why it gave this results??\n",
    "#[array([[ 40,  70, 100,  90,  70,  80]]), \n",
    "#array([[33, 43, 64, 78, 56, 45]]), \n",
    "#array([], shape=(0, 6), dtype=int32)]"
   ]
  },
  {
   "cell_type": "code",
   "execution_count": 14,
   "metadata": {},
   "outputs": [
    {
     "name": "stdout",
     "output_type": "stream",
     "text": [
      "[array([1, 2]), array([3, 4]), array([5, 6])]\n"
     ]
    }
   ],
   "source": [
    "#splitting data numpy\n",
    "import numpy as np\n",
    "\n",
    "arr = np.array([1, 2, 3, 4, 5, 6])\n",
    "\n",
    "newarr = np.array_split(arr, 3)\n",
    "\n",
    "print(newarr)\n"
   ]
  },
  {
   "cell_type": "code",
   "execution_count": 20,
   "metadata": {},
   "outputs": [
    {
     "name": "stdout",
     "output_type": "stream",
     "text": [
      "(array([3], dtype=int64),)\n",
      "(array([0, 1, 2, 3, 4, 6], dtype=int64),)\n"
     ]
    }
   ],
   "source": [
    "#array search \n",
    "import numpy as np\n",
    "logs=np.array([1,3,7,9,100])\n",
    "f=np.where(logs==9)  #9when you search in array you search for value\n",
    "print(f)\n",
    "#find indexex where number is even\n",
    "values=np.array([2,6,8,10,24,53,64,73,101])\n",
    "k=np.where(values%2 ==0)\n",
    "print(k)"
   ]
  },
  {
   "cell_type": "code",
   "execution_count": 25,
   "metadata": {},
   "outputs": [
    {
     "ename": "NameError",
     "evalue": "name 'random' is not defined",
     "output_type": "error",
     "traceback": [
      "\u001b[1;31m---------------------------------------------------------------------------\u001b[0m",
      "\u001b[1;31mNameError\u001b[0m                                 Traceback (most recent call last)",
      "\u001b[1;32m<ipython-input-25-97a5337a691b>\u001b[0m in \u001b[0;36m<module>\u001b[1;34m\u001b[0m\n\u001b[0;32m      2\u001b[0m \u001b[1;31m#integars from 0 to 100\u001b[0m\u001b[1;33m\u001b[0m\u001b[1;33m\u001b[0m\u001b[1;33m\u001b[0m\u001b[0m\n\u001b[0;32m      3\u001b[0m \u001b[1;32mimport\u001b[0m \u001b[0mnumpy\u001b[0m \u001b[1;32mas\u001b[0m \u001b[0mnp\u001b[0m\u001b[1;33m\u001b[0m\u001b[1;33m\u001b[0m\u001b[0m\n\u001b[1;32m----> 4\u001b[1;33m \u001b[0mr\u001b[0m\u001b[1;33m=\u001b[0m\u001b[0mrandom\u001b[0m\u001b[1;33m.\u001b[0m\u001b[0mrandint\u001b[0m\u001b[1;33m(\u001b[0m\u001b[1;36m100\u001b[0m\u001b[1;33m,\u001b[0m\u001b[0msize\u001b[0m\u001b[1;33m=\u001b[0m\u001b[1;33m(\u001b[0m\u001b[1;36m3\u001b[0m\u001b[1;33m,\u001b[0m\u001b[1;36m5\u001b[0m\u001b[1;33m)\u001b[0m\u001b[1;33m)\u001b[0m\u001b[1;33m\u001b[0m\u001b[1;33m\u001b[0m\u001b[0m\n\u001b[0m\u001b[0;32m      5\u001b[0m \u001b[0mprint\u001b[0m\u001b[1;33m(\u001b[0m\u001b[0mr\u001b[0m\u001b[1;33m)\u001b[0m\u001b[1;33m\u001b[0m\u001b[1;33m\u001b[0m\u001b[0m\n",
      "\u001b[1;31mNameError\u001b[0m: name 'random' is not defined"
     ]
    }
   ],
   "source": [
    "#generate 2d array with 3 rows and each row contain 5 random \n",
    "#integars from 0 to 100\n",
    "import numpy as np\n",
    "r=random.randint(100,size=(3,5))\n",
    "print(r)"
   ]
  },
  {
   "cell_type": "code",
   "execution_count": 8,
   "metadata": {},
   "outputs": [
    {
     "name": "stdout",
     "output_type": "stream",
     "text": [
      "(10,)\n"
     ]
    }
   ],
   "source": [
    "import numpy as np\n",
    "log_data=np.array([3,6,9,12,15,18,21,24,27,30])\n",
    "print(log_data.shape)"
   ]
  },
  {
   "cell_type": "code",
   "execution_count": 21,
   "metadata": {},
   "outputs": [
    {
     "name": "stdout",
     "output_type": "stream",
     "text": [
      "[[ 5.2  3.   4.5]\n",
      " [90.  70.  50. ]\n",
      " [30.  13.  40. ]\n",
      " [ 9.1  0.1  0.3]\n",
      " [87.  56.  14. ]\n",
      " [44.  33.  14. ]]\n",
      "[[ 4  5 10]\n",
      " [90 70 50]\n",
      " [ 7 14 18]\n",
      " [87 56 14]]\n"
     ]
    }
   ],
   "source": [
    "array_1=np.array([[5.2,3,4.5],[90,70,50],[30,13,40]])\n",
    "array_2=np.array([[9.1,0.1,0.3],[87,56,14],[44,33,14]])\n",
    "combined_array=np.concatenate((array_1,array_2), axis=0)\n",
    "print(combined_array)\n",
    "array_1=np.array([[4,5,10],[90,70,50]])\n",
    "array_2=np.array([[7,14,18],[87,56,14]])\n",
    "combined_array=np.concatenate((array_1,array_2), axis=0)\n",
    "print(combined_array)  #when you say axis =1 it means"
   ]
  },
  {
   "cell_type": "code",
   "execution_count": null,
   "metadata": {},
   "outputs": [],
   "source": []
  }
 ],
 "metadata": {
  "kernelspec": {
   "display_name": "Python 3",
   "language": "python",
   "name": "python3"
  },
  "language_info": {
   "codemirror_mode": {
    "name": "ipython",
    "version": 3
   },
   "file_extension": ".py",
   "mimetype": "text/x-python",
   "name": "python",
   "nbconvert_exporter": "python",
   "pygments_lexer": "ipython3",
   "version": "3.8.5"
  }
 },
 "nbformat": 4,
 "nbformat_minor": 4
}
